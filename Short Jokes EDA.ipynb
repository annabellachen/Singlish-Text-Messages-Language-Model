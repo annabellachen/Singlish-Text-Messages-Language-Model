{
 "nbformat": 4,
 "nbformat_minor": 2,
 "metadata": {
  "language_info": {
   "name": "python",
   "codemirror_mode": {
    "name": "ipython",
    "version": 3
   },
   "version": "3.7.6-final"
  },
  "orig_nbformat": 2,
  "file_extension": ".py",
  "mimetype": "text/x-python",
  "name": "python",
  "npconvert_exporter": "python",
  "pygments_lexer": "ipython3",
  "version": 3,
  "kernelspec": {
   "name": "python3",
   "display_name": "Python 3"
  }
 },
 "cells": [
  {
   "cell_type": "code",
   "execution_count": 2,
   "metadata": {},
   "outputs": [],
   "source": [
    "import pandas as pd\n",
    "\n",
    "pd.set_option('max_colwidth', 200)"
   ]
  },
  {
   "cell_type": "code",
   "execution_count": 3,
   "metadata": {},
   "outputs": [],
   "source": [
    "data = pd.read_csv('data/shortjokes.csv')"
   ]
  },
  {
   "cell_type": "code",
   "execution_count": 4,
   "metadata": {},
   "outputs": [
    {
     "data": {
      "text/html": "<div>\n<style scoped>\n    .dataframe tbody tr th:only-of-type {\n        vertical-align: middle;\n    }\n\n    .dataframe tbody tr th {\n        vertical-align: top;\n    }\n\n    .dataframe thead th {\n        text-align: right;\n    }\n</style>\n<table border=\"1\" class=\"dataframe\">\n  <thead>\n    <tr style=\"text-align: right;\">\n      <th></th>\n      <th>ID</th>\n      <th>Joke</th>\n    </tr>\n  </thead>\n  <tbody>\n    <tr>\n      <th>0</th>\n      <td>1</td>\n      <td>[me narrating a documentary about narrators] \"I can't hear what they're saying cuz I'm talking\"</td>\n    </tr>\n    <tr>\n      <th>1</th>\n      <td>2</td>\n      <td>Telling my daughter garlic is good for you. Good immune system and keeps pests away.Ticks, mosquitos, vampires... men.</td>\n    </tr>\n    <tr>\n      <th>2</th>\n      <td>3</td>\n      <td>I've been going through a really rough period at work this week It's my own fault for swapping my tampax for sand paper.</td>\n    </tr>\n    <tr>\n      <th>3</th>\n      <td>4</td>\n      <td>If I could have dinner with anyone, dead or alive... ...I would choose alive. -B.J. Novak-</td>\n    </tr>\n    <tr>\n      <th>4</th>\n      <td>5</td>\n      <td>Two guys walk into a bar. The third guy ducks.</td>\n    </tr>\n    <tr>\n      <th>...</th>\n      <td>...</td>\n      <td>...</td>\n    </tr>\n    <tr>\n      <th>231652</th>\n      <td>231653</td>\n      <td>The Spicy Sausage by Delia Katessen</td>\n    </tr>\n    <tr>\n      <th>231653</th>\n      <td>231654</td>\n      <td>TIL That I Shouldn't have gone to law school, because everyone in /r/news already has their law degree</td>\n    </tr>\n    <tr>\n      <th>231654</th>\n      <td>231655</td>\n      <td>What did the RAM stick say to the politician? I'm PC2!</td>\n    </tr>\n    <tr>\n      <th>231655</th>\n      <td>231656</td>\n      <td>what do you call a play about victorian era menstruation? A period piece!</td>\n    </tr>\n    <tr>\n      <th>231656</th>\n      <td>231657</td>\n      <td>Calculus should be taught in every high school around the world. It is such an integral field of math.</td>\n    </tr>\n  </tbody>\n</table>\n<p>231657 rows × 2 columns</p>\n</div>",
      "text/plain": "            ID  \\\n0            1   \n1            2   \n2            3   \n3            4   \n4            5   \n...        ...   \n231652  231653   \n231653  231654   \n231654  231655   \n231655  231656   \n231656  231657   \n\n                                                                                                                            Joke  \n0                                [me narrating a documentary about narrators] \"I can't hear what they're saying cuz I'm talking\"  \n1         Telling my daughter garlic is good for you. Good immune system and keeps pests away.Ticks, mosquitos, vampires... men.  \n2       I've been going through a really rough period at work this week It's my own fault for swapping my tampax for sand paper.  \n3                                     If I could have dinner with anyone, dead or alive... ...I would choose alive. -B.J. Novak-  \n4                                                                                 Two guys walk into a bar. The third guy ducks.  \n...                                                                                                                          ...  \n231652                                                                                       The Spicy Sausage by Delia Katessen  \n231653                    TIL That I Shouldn't have gone to law school, because everyone in /r/news already has their law degree  \n231654                                                                    What did the RAM stick say to the politician? I'm PC2!  \n231655                                                 what do you call a play about victorian era menstruation? A period piece!  \n231656                    Calculus should be taught in every high school around the world. It is such an integral field of math.  \n\n[231657 rows x 2 columns]"
     },
     "execution_count": 4,
     "metadata": {},
     "output_type": "execute_result"
    }
   ],
   "source": [
    "data"
   ]
  },
  {
   "cell_type": "code",
   "execution_count": 5,
   "metadata": {},
   "outputs": [
    {
     "data": {
      "text/html": "<div>\n<style scoped>\n    .dataframe tbody tr th:only-of-type {\n        vertical-align: middle;\n    }\n\n    .dataframe tbody tr th {\n        vertical-align: top;\n    }\n\n    .dataframe thead th {\n        text-align: right;\n    }\n</style>\n<table border=\"1\" class=\"dataframe\">\n  <thead>\n    <tr style=\"text-align: right;\">\n      <th></th>\n      <th>ID</th>\n      <th>Joke</th>\n    </tr>\n  </thead>\n  <tbody>\n    <tr>\n      <th>0</th>\n      <td>1</td>\n      <td>[me narrating a documentary about narrators] \"I can't hear what they're saying cuz I'm talking\"</td>\n    </tr>\n    <tr>\n      <th>1</th>\n      <td>2</td>\n      <td>Telling my daughter garlic is good for you. Good immune system and keeps pests away.Ticks, mosquitos, vampires... men.</td>\n    </tr>\n    <tr>\n      <th>2</th>\n      <td>3</td>\n      <td>I've been going through a really rough period at work this week It's my own fault for swapping my tampax for sand paper.</td>\n    </tr>\n    <tr>\n      <th>3</th>\n      <td>4</td>\n      <td>If I could have dinner with anyone, dead or alive... ...I would choose alive. -B.J. Novak-</td>\n    </tr>\n    <tr>\n      <th>4</th>\n      <td>5</td>\n      <td>Two guys walk into a bar. The third guy ducks.</td>\n    </tr>\n    <tr>\n      <th>5</th>\n      <td>6</td>\n      <td>Why can't Barbie get pregnant? Because Ken comes in a different box. Heyooooooo</td>\n    </tr>\n    <tr>\n      <th>6</th>\n      <td>7</td>\n      <td>Why was the musician arrested? He got in treble.</td>\n    </tr>\n    <tr>\n      <th>7</th>\n      <td>8</td>\n      <td>Did you hear about the guy who blew his entire lottery winnings on a limousine? He had nothing left to chauffeur it.</td>\n    </tr>\n    <tr>\n      <th>8</th>\n      <td>9</td>\n      <td>What do you do if a bird shits on your car? Don't ask her out again.</td>\n    </tr>\n    <tr>\n      <th>9</th>\n      <td>10</td>\n      <td>He was a real gentlemen and always opened the fridge door for me</td>\n    </tr>\n    <tr>\n      <th>10</th>\n      <td>11</td>\n      <td>Telling my daugthers date that \"she has lice and its very contagious the closer you get to her.\" *Correct way to parent.</td>\n    </tr>\n    <tr>\n      <th>11</th>\n      <td>12</td>\n      <td>What should you do before criticizing Pac-Man? WAKA WAKA WAKA mile in his shoes</td>\n    </tr>\n    <tr>\n      <th>12</th>\n      <td>13</td>\n      <td>What's the difference between an illegal Mexican and an autonomous robot...? Nothing... they were both made to steal American jobs.</td>\n    </tr>\n    <tr>\n      <th>13</th>\n      <td>14</td>\n      <td>What do you call a barbarian you can't see? an Invisigoth.</td>\n    </tr>\n    <tr>\n      <th>14</th>\n      <td>15</td>\n      <td>How do you spell Canda? C,eh,N,eh,D,eh</td>\n    </tr>\n    <tr>\n      <th>15</th>\n      <td>16</td>\n      <td>You ever notice that the most dangerous thing about marijuana is getting caught with it?</td>\n    </tr>\n    <tr>\n      <th>16</th>\n      <td>17</td>\n      <td>What did Arnold Schwarzenegger say at the abortion clinic? Hasta last vista, baby.</td>\n    </tr>\n    <tr>\n      <th>17</th>\n      <td>18</td>\n      <td>My wife is in a bad mood. I think her boyfriend forgot their anniversary. Way to go, dude. Now we all suffer...</td>\n    </tr>\n    <tr>\n      <th>18</th>\n      <td>19</td>\n      <td>My speech today will be like a mini-skirt. Long enough to cover the essentials but short enough to hold your attention!</td>\n    </tr>\n    <tr>\n      <th>19</th>\n      <td>20</td>\n      <td>Thanksgiving joke What does Miley Cyrus eat for Thanksgiving? Twerky! Just kidding... Drugs. She eats drugs. -Adam Zopf @adamzopf</td>\n    </tr>\n  </tbody>\n</table>\n</div>",
      "text/plain": "    ID  \\\n0    1   \n1    2   \n2    3   \n3    4   \n4    5   \n5    6   \n6    7   \n7    8   \n8    9   \n9   10   \n10  11   \n11  12   \n12  13   \n13  14   \n14  15   \n15  16   \n16  17   \n17  18   \n18  19   \n19  20   \n\n                                                                                                                                   Joke  \n0                                       [me narrating a documentary about narrators] \"I can't hear what they're saying cuz I'm talking\"  \n1                Telling my daughter garlic is good for you. Good immune system and keeps pests away.Ticks, mosquitos, vampires... men.  \n2              I've been going through a really rough period at work this week It's my own fault for swapping my tampax for sand paper.  \n3                                            If I could have dinner with anyone, dead or alive... ...I would choose alive. -B.J. Novak-  \n4                                                                                        Two guys walk into a bar. The third guy ducks.  \n5                                                       Why can't Barbie get pregnant? Because Ken comes in a different box. Heyooooooo  \n6                                                                                      Why was the musician arrested? He got in treble.  \n7                  Did you hear about the guy who blew his entire lottery winnings on a limousine? He had nothing left to chauffeur it.  \n8                                                                  What do you do if a bird shits on your car? Don't ask her out again.  \n9                                                                      He was a real gentlemen and always opened the fridge door for me  \n10             Telling my daugthers date that \"she has lice and its very contagious the closer you get to her.\" *Correct way to parent.  \n11                                                      What should you do before criticizing Pac-Man? WAKA WAKA WAKA mile in his shoes  \n12  What's the difference between an illegal Mexican and an autonomous robot...? Nothing... they were both made to steal American jobs.  \n13                                                                           What do you call a barbarian you can't see? an Invisigoth.  \n14                                                                                               How do you spell Canda? C,eh,N,eh,D,eh  \n15                                             You ever notice that the most dangerous thing about marijuana is getting caught with it?  \n16                                                   What did Arnold Schwarzenegger say at the abortion clinic? Hasta last vista, baby.  \n17                      My wife is in a bad mood. I think her boyfriend forgot their anniversary. Way to go, dude. Now we all suffer...  \n18              My speech today will be like a mini-skirt. Long enough to cover the essentials but short enough to hold your attention!  \n19    Thanksgiving joke What does Miley Cyrus eat for Thanksgiving? Twerky! Just kidding... Drugs. She eats drugs. -Adam Zopf @adamzopf  "
     },
     "execution_count": 5,
     "metadata": {},
     "output_type": "execute_result"
    }
   ],
   "source": [
    "full_df = pd.DataFrame(data)\n",
    "\n",
    "full_df.head(20)"
   ]
  },
  {
   "cell_type": "code",
   "execution_count": 6,
   "metadata": {},
   "outputs": [],
   "source": [
    "def clean_jokes(joke_text):\n",
    "    return str(joke_text).lower()"
   ]
  },
  {
   "cell_type": "code",
   "execution_count": 7,
   "metadata": {},
   "outputs": [],
   "source": [
    "full_df['clean_jokes'] = full_df['Joke'].apply(clean_jokes)"
   ]
  },
  {
   "cell_type": "code",
   "execution_count": 8,
   "metadata": {},
   "outputs": [
    {
     "data": {
      "text/html": "<div>\n<style scoped>\n    .dataframe tbody tr th:only-of-type {\n        vertical-align: middle;\n    }\n\n    .dataframe tbody tr th {\n        vertical-align: top;\n    }\n\n    .dataframe thead th {\n        text-align: right;\n    }\n</style>\n<table border=\"1\" class=\"dataframe\">\n  <thead>\n    <tr style=\"text-align: right;\">\n      <th></th>\n      <th>ID</th>\n      <th>Joke</th>\n      <th>clean_jokes</th>\n    </tr>\n  </thead>\n  <tbody>\n    <tr>\n      <th>0</th>\n      <td>1</td>\n      <td>[me narrating a documentary about narrators] \"I can't hear what they're saying cuz I'm talking\"</td>\n      <td>[me narrating a documentary about narrators] \"i can't hear what they're saying cuz i'm talking\"</td>\n    </tr>\n    <tr>\n      <th>1</th>\n      <td>2</td>\n      <td>Telling my daughter garlic is good for you. Good immune system and keeps pests away.Ticks, mosquitos, vampires... men.</td>\n      <td>telling my daughter garlic is good for you. good immune system and keeps pests away.ticks, mosquitos, vampires... men.</td>\n    </tr>\n    <tr>\n      <th>2</th>\n      <td>3</td>\n      <td>I've been going through a really rough period at work this week It's my own fault for swapping my tampax for sand paper.</td>\n      <td>i've been going through a really rough period at work this week it's my own fault for swapping my tampax for sand paper.</td>\n    </tr>\n    <tr>\n      <th>3</th>\n      <td>4</td>\n      <td>If I could have dinner with anyone, dead or alive... ...I would choose alive. -B.J. Novak-</td>\n      <td>if i could have dinner with anyone, dead or alive... ...i would choose alive. -b.j. novak-</td>\n    </tr>\n    <tr>\n      <th>4</th>\n      <td>5</td>\n      <td>Two guys walk into a bar. The third guy ducks.</td>\n      <td>two guys walk into a bar. the third guy ducks.</td>\n    </tr>\n    <tr>\n      <th>5</th>\n      <td>6</td>\n      <td>Why can't Barbie get pregnant? Because Ken comes in a different box. Heyooooooo</td>\n      <td>why can't barbie get pregnant? because ken comes in a different box. heyooooooo</td>\n    </tr>\n    <tr>\n      <th>6</th>\n      <td>7</td>\n      <td>Why was the musician arrested? He got in treble.</td>\n      <td>why was the musician arrested? he got in treble.</td>\n    </tr>\n    <tr>\n      <th>7</th>\n      <td>8</td>\n      <td>Did you hear about the guy who blew his entire lottery winnings on a limousine? He had nothing left to chauffeur it.</td>\n      <td>did you hear about the guy who blew his entire lottery winnings on a limousine? he had nothing left to chauffeur it.</td>\n    </tr>\n    <tr>\n      <th>8</th>\n      <td>9</td>\n      <td>What do you do if a bird shits on your car? Don't ask her out again.</td>\n      <td>what do you do if a bird shits on your car? don't ask her out again.</td>\n    </tr>\n    <tr>\n      <th>9</th>\n      <td>10</td>\n      <td>He was a real gentlemen and always opened the fridge door for me</td>\n      <td>he was a real gentlemen and always opened the fridge door for me</td>\n    </tr>\n    <tr>\n      <th>10</th>\n      <td>11</td>\n      <td>Telling my daugthers date that \"she has lice and its very contagious the closer you get to her.\" *Correct way to parent.</td>\n      <td>telling my daugthers date that \"she has lice and its very contagious the closer you get to her.\" *correct way to parent.</td>\n    </tr>\n    <tr>\n      <th>11</th>\n      <td>12</td>\n      <td>What should you do before criticizing Pac-Man? WAKA WAKA WAKA mile in his shoes</td>\n      <td>what should you do before criticizing pac-man? waka waka waka mile in his shoes</td>\n    </tr>\n    <tr>\n      <th>12</th>\n      <td>13</td>\n      <td>What's the difference between an illegal Mexican and an autonomous robot...? Nothing... they were both made to steal American jobs.</td>\n      <td>what's the difference between an illegal mexican and an autonomous robot...? nothing... they were both made to steal american jobs.</td>\n    </tr>\n    <tr>\n      <th>13</th>\n      <td>14</td>\n      <td>What do you call a barbarian you can't see? an Invisigoth.</td>\n      <td>what do you call a barbarian you can't see? an invisigoth.</td>\n    </tr>\n    <tr>\n      <th>14</th>\n      <td>15</td>\n      <td>How do you spell Canda? C,eh,N,eh,D,eh</td>\n      <td>how do you spell canda? c,eh,n,eh,d,eh</td>\n    </tr>\n    <tr>\n      <th>15</th>\n      <td>16</td>\n      <td>You ever notice that the most dangerous thing about marijuana is getting caught with it?</td>\n      <td>you ever notice that the most dangerous thing about marijuana is getting caught with it?</td>\n    </tr>\n    <tr>\n      <th>16</th>\n      <td>17</td>\n      <td>What did Arnold Schwarzenegger say at the abortion clinic? Hasta last vista, baby.</td>\n      <td>what did arnold schwarzenegger say at the abortion clinic? hasta last vista, baby.</td>\n    </tr>\n    <tr>\n      <th>17</th>\n      <td>18</td>\n      <td>My wife is in a bad mood. I think her boyfriend forgot their anniversary. Way to go, dude. Now we all suffer...</td>\n      <td>my wife is in a bad mood. i think her boyfriend forgot their anniversary. way to go, dude. now we all suffer...</td>\n    </tr>\n    <tr>\n      <th>18</th>\n      <td>19</td>\n      <td>My speech today will be like a mini-skirt. Long enough to cover the essentials but short enough to hold your attention!</td>\n      <td>my speech today will be like a mini-skirt. long enough to cover the essentials but short enough to hold your attention!</td>\n    </tr>\n    <tr>\n      <th>19</th>\n      <td>20</td>\n      <td>Thanksgiving joke What does Miley Cyrus eat for Thanksgiving? Twerky! Just kidding... Drugs. She eats drugs. -Adam Zopf @adamzopf</td>\n      <td>thanksgiving joke what does miley cyrus eat for thanksgiving? twerky! just kidding... drugs. she eats drugs. -adam zopf @adamzopf</td>\n    </tr>\n  </tbody>\n</table>\n</div>",
      "text/plain": "    ID  \\\n0    1   \n1    2   \n2    3   \n3    4   \n4    5   \n5    6   \n6    7   \n7    8   \n8    9   \n9   10   \n10  11   \n11  12   \n12  13   \n13  14   \n14  15   \n15  16   \n16  17   \n17  18   \n18  19   \n19  20   \n\n                                                                                                                                   Joke  \\\n0                                       [me narrating a documentary about narrators] \"I can't hear what they're saying cuz I'm talking\"   \n1                Telling my daughter garlic is good for you. Good immune system and keeps pests away.Ticks, mosquitos, vampires... men.   \n2              I've been going through a really rough period at work this week It's my own fault for swapping my tampax for sand paper.   \n3                                            If I could have dinner with anyone, dead or alive... ...I would choose alive. -B.J. Novak-   \n4                                                                                        Two guys walk into a bar. The third guy ducks.   \n5                                                       Why can't Barbie get pregnant? Because Ken comes in a different box. Heyooooooo   \n6                                                                                      Why was the musician arrested? He got in treble.   \n7                  Did you hear about the guy who blew his entire lottery winnings on a limousine? He had nothing left to chauffeur it.   \n8                                                                  What do you do if a bird shits on your car? Don't ask her out again.   \n9                                                                      He was a real gentlemen and always opened the fridge door for me   \n10             Telling my daugthers date that \"she has lice and its very contagious the closer you get to her.\" *Correct way to parent.   \n11                                                      What should you do before criticizing Pac-Man? WAKA WAKA WAKA mile in his shoes   \n12  What's the difference between an illegal Mexican and an autonomous robot...? Nothing... they were both made to steal American jobs.   \n13                                                                           What do you call a barbarian you can't see? an Invisigoth.   \n14                                                                                               How do you spell Canda? C,eh,N,eh,D,eh   \n15                                             You ever notice that the most dangerous thing about marijuana is getting caught with it?   \n16                                                   What did Arnold Schwarzenegger say at the abortion clinic? Hasta last vista, baby.   \n17                      My wife is in a bad mood. I think her boyfriend forgot their anniversary. Way to go, dude. Now we all suffer...   \n18              My speech today will be like a mini-skirt. Long enough to cover the essentials but short enough to hold your attention!   \n19    Thanksgiving joke What does Miley Cyrus eat for Thanksgiving? Twerky! Just kidding... Drugs. She eats drugs. -Adam Zopf @adamzopf   \n\n                                                                                                                            clean_jokes  \n0                                       [me narrating a documentary about narrators] \"i can't hear what they're saying cuz i'm talking\"  \n1                telling my daughter garlic is good for you. good immune system and keeps pests away.ticks, mosquitos, vampires... men.  \n2              i've been going through a really rough period at work this week it's my own fault for swapping my tampax for sand paper.  \n3                                            if i could have dinner with anyone, dead or alive... ...i would choose alive. -b.j. novak-  \n4                                                                                        two guys walk into a bar. the third guy ducks.  \n5                                                       why can't barbie get pregnant? because ken comes in a different box. heyooooooo  \n6                                                                                      why was the musician arrested? he got in treble.  \n7                  did you hear about the guy who blew his entire lottery winnings on a limousine? he had nothing left to chauffeur it.  \n8                                                                  what do you do if a bird shits on your car? don't ask her out again.  \n9                                                                      he was a real gentlemen and always opened the fridge door for me  \n10             telling my daugthers date that \"she has lice and its very contagious the closer you get to her.\" *correct way to parent.  \n11                                                      what should you do before criticizing pac-man? waka waka waka mile in his shoes  \n12  what's the difference between an illegal mexican and an autonomous robot...? nothing... they were both made to steal american jobs.  \n13                                                                           what do you call a barbarian you can't see? an invisigoth.  \n14                                                                                               how do you spell canda? c,eh,n,eh,d,eh  \n15                                             you ever notice that the most dangerous thing about marijuana is getting caught with it?  \n16                                                   what did arnold schwarzenegger say at the abortion clinic? hasta last vista, baby.  \n17                      my wife is in a bad mood. i think her boyfriend forgot their anniversary. way to go, dude. now we all suffer...  \n18              my speech today will be like a mini-skirt. long enough to cover the essentials but short enough to hold your attention!  \n19    thanksgiving joke what does miley cyrus eat for thanksgiving? twerky! just kidding... drugs. she eats drugs. -adam zopf @adamzopf  "
     },
     "execution_count": 8,
     "metadata": {},
     "output_type": "execute_result"
    }
   ],
   "source": [
    "full_df.head(20)"
   ]
  },
  {
   "cell_type": "code",
   "execution_count": 11,
   "metadata": {},
   "outputs": [],
   "source": [
    "train_jokes_df = full_df['clean_jokes'].sample(n=20000, random_state=42)\n",
    "\n",
    "test_jokes_df = full_df.drop(train_jokes_df.index)\n",
    "test_jokes_df = test_jokes_df['clean_jokes']"
   ]
  },
  {
   "cell_type": "code",
   "execution_count": 12,
   "metadata": {},
   "outputs": [
    {
     "data": {
      "text/plain": "4510                                                                                                                   what do all battered women have in common? they don't listen.\n161744    who invented the north america? teacher: sarah, go to the map and find north america. sarah: here it is. teacher: correct. now class, who discovered america?class: sarah!\n155603                           i feel like this election ended up being a good thing for hilary clinton. at least now she knows what it feels like to get fucked by the president.\n100593                                                                                                                               what do you call a pile of kittens? a meowntain\n23208                                                                                i feel bad for people named john smith. they probably didn't get the gmail account they wanted.\nName: clean_jokes, dtype: object"
     },
     "execution_count": 12,
     "metadata": {},
     "output_type": "execute_result"
    }
   ],
   "source": [
    "train_jokes_df.head()"
   ]
  },
  {
   "cell_type": "code",
   "execution_count": 13,
   "metadata": {},
   "outputs": [
    {
     "data": {
      "text/plain": "0                             [me narrating a documentary about narrators] \"i can't hear what they're saying cuz i'm talking\"\n1      telling my daughter garlic is good for you. good immune system and keeps pests away.ticks, mosquitos, vampires... men.\n2    i've been going through a really rough period at work this week it's my own fault for swapping my tampax for sand paper.\n3                                  if i could have dinner with anyone, dead or alive... ...i would choose alive. -b.j. novak-\n4                                                                              two guys walk into a bar. the third guy ducks.\nName: clean_jokes, dtype: object"
     },
     "execution_count": 13,
     "metadata": {},
     "output_type": "execute_result"
    }
   ],
   "source": [
    "test_jokes_df.head()"
   ]
  },
  {
   "cell_type": "code",
   "execution_count": 14,
   "metadata": {},
   "outputs": [
    {
     "name": "stdout",
     "output_type": "stream",
     "text": "Size of train jokes dataset = 20000\nSize of test jokes dataset = 211657\n"
    }
   ],
   "source": [
    "print(f'Size of train jokes dataset = {len(train_jokes_df)}')\n",
    "print(f'Size of test jokes dataset = {len(test_jokes_df)}')"
   ]
  },
  {
   "cell_type": "code",
   "execution_count": 16,
   "metadata": {},
   "outputs": [],
   "source": [
    "#Create the short jokes train and test datasets as files\n",
    "with open('train_jokes.txt', mode='w', encoding='utf-8') as f:\n",
    "    f.write(train_jokes_df.to_string(header=False, index=False))\n",
    "    \n",
    "with open('test_jokes.txt', mode='w', encoding='utf-8') as f:\n",
    "    f.write(test_jokes_df.to_string(header=False, index=False))"
   ]
  },
  {
   "cell_type": "code",
   "execution_count": 17,
   "metadata": {},
   "outputs": [],
   "source": [
    "from nltk.util import pad_sequence\n",
    "from nltk.util import bigrams\n",
    "from nltk.util import ngrams\n",
    "from nltk.util import everygrams\n",
    "from nltk.lm.preprocessing import pad_both_ends\n",
    "from nltk.lm.preprocessing import flatten"
   ]
  },
  {
   "cell_type": "code",
   "execution_count": 18,
   "metadata": {},
   "outputs": [],
   "source": [
    "try: # Use the default NLTK tokenizer.\n",
    "    from nltk import word_tokenize, sent_tokenize \n",
    "    # Testing whether it works. \n",
    "    # Sometimes it doesn't work on some machines because of setup issues.\n",
    "    word_tokenize(sent_tokenize(\"This is a foobar sentence. Yes it is.\")[0])\n",
    "except: # Use a naive sentence tokenizer and toktok.\n",
    "    import re\n",
    "    from nltk.tokenize import ToktokTokenizer\n",
    "    # See https://stackoverflow.com/a/25736515/610569\n",
    "    sent_tokenize = lambda x: re.split(r'(?<=[^A-Z].[.?]) +(?=[A-Z])', x)\n",
    "    # Use the toktok tokenizer that requires no dependencies.\n",
    "    toktok = ToktokTokenizer()\n",
    "    word_tokenize = word_tokenize = toktok.tokenize"
   ]
  },
  {
   "cell_type": "code",
   "execution_count": 19,
   "metadata": {},
   "outputs": [],
   "source": [
    "import os\n",
    "import requests\n",
    "import io #codecs\n",
    "\n",
    "with io.open('train_jokes.txt', encoding='utf-8') as fin:\n",
    "    text = fin.read()"
   ]
  },
  {
   "cell_type": "code",
   "execution_count": 20,
   "metadata": {},
   "outputs": [],
   "source": [
    "# Tokenize the text.\n",
    "tokenized_text = [list(map(str.lower, word_tokenize(sent))) \n",
    "                  for sent in sent_tokenize(text)]"
   ]
  },
  {
   "cell_type": "code",
   "execution_count": 24,
   "metadata": {},
   "outputs": [
    {
     "name": "stdout",
     "output_type": "stream",
     "text": "tions', ',', 'i', \"'ll\", 'never', 'dine', 'with', 'a', 'russian', 'again', '.'], ['they', 'ca', \"n't\", 'stop', 'talking', 'about', 'going', 'putin-free', '.'], ['a', 'vegan', ',', 'a', 'priest', ',', '&', 'a', 'rabbi', 'walk', 'into', 'a', 'bar', '.'], ['the', 'vegan', 'pretty', 'much', 'just', 'blabs', 'on', '&', 'on', 'about', 'how', 'he', \"'s\", 'a', 'vegan', 'for', 'the', 'next', 'hour', '.'], ['the', 'end', '.'], ['why', 'did', \"n't\", 'the', 'skeleton', 'go', 'for', 'the', 'halloween', 'party', '?'], ['he', 'had', '``', 'no', 'body', '``', 'to', 'go', 'with', '.'], ['hilary', 'clinton', 'will', 'be', 'the', 'first', 'f', 'president', 'of', 'the', 'united', 'states', '...', '.', 'i', 'was', 'gon', 'na', 'say', 'female', 'but', 'someone', 'deleted', 'the', 'emale', '.'], ['i', 'made', 'a', 'joke', 'for', 'my', 'dog', 'tonight', '...', 'why', 'did', 'the', 'cat', 'cross', 'the', 'road', '?'], ['splat', '*clap', 'my', 'hands*', '.'], ['it', 'did', \"n't\", '!', '!'], ['(', 'my', 'dog', 'loved', 'it', '.', ')'], ['so', 'i', 'hear', 'trump', 'wants', 'to', 'ban', 'shredded', 'cheese', '.'], ['says', 'he', \"'s\", 'going', 'to', 'make', 'america', 'grate', 'again', '.'], ['anyone', 'looking', 'for', 'a', 'job', 'should', 'consider', 'becoming', 'an', 'elephant', 'circumsiser', '...', '...', 'the', 'pay', 'is', \"n't\", 'too', 'great', ',', 'but', 'the', 'tips', 'are', 'enormous', '!'], ['which', 'country', 'has', 'a', 'drug-addicted', 'king', '?'], ['hyrule', '.'], ['the', 'guy', 'that', 'takes', 'a', 'picture', 'for', 'girls', 'at', 'a', 'club', 'never', 'gets', 'laid', '.'], ['suggested', 'thanksgiving', 'conversation', 'starters', ':', '``', 'which', 'god', 'are', 'we', 'thanking', 'again', '?', \"''\"], ['you', \"'re\", 'welcome', ':', ')', '``', 'no', '!', \"''\"], ['-an', 'a', 'to', 'z', 'guide', 'to', 'parenting', '.'], ['what', 'do', 'you', 'call', 'a', 'guy', 'with', 'a', 'shovel', '?'], ['doug', 'russian', 'cosmonauts', 'have', 'been', 'banned', 'from', 'telling', 'jokes', 'on', 'the', 'interational', 'space', 'station', '...', '...', 'because', 'they', 'always', 'involve', 'mir', 'puns', '.'], ['what', \"'s\", 'a', 'procrastinator', \"'s\", 'favorite', 'punchline', '?'], ['i', \"'ll\", 'tell', 'you', 'tomorrow', 'what', 'do', 'you', 'call', 'a', 'fascist', 'in', 'an', 'ironic', 't-shirt', 'adolf', 'hipster', '.'], ['jesus', 'was', 'obviously', 'white', '.'], ['he', 'even', 'tastes', 'like', 'crackers', '!'], ['the', 'first', 'messenger', 'to', 'say', '``', 'do', \"n't\", 'kill', 'the', 'messenger', \"''\", 'definitely', 'got', 'killed', 'in', 'the', 'face', '.'], ['why', 'are', 'astronauts', 'seen', 'as', 'condescending', '?'], ['because', 'all', 'they', 'do', 'is', 'look', 'down', 'at', 'people', '.'], ['barber', ':', 'would', 'you', 'like', 'a', 'hot', 'towel', '?'], ['me', ':', 'buddy', ',', 'i', 'do', \"n't\", 'objectify', 'towels', 'what', 'has', 'four', 'legs', 'and', 'will', 'kill', 'you', 'if', 'it', 'falls', 'out', 'of', 'a', 'tree', '?'], ['a', 'pool', 'table', '.'], ['what', 'is', 'helen', 'keller', \"'s\", 'favorite', 'color', '?'], ['corduroy', '!'], ['why', 'are', 'narwhals', 'so', 'sexually', 'attracted', 'to', 'everything', '?'], ['because', 'they', 'are', 'horny', 'not', 'every', 'badly', 'unkempt', 'guy', 'is', 'homeless', '.'], ['it', 'could', 'well', 'be', 'that', 'he', 'lives', 'with', '3', 'females', 'and', 'only', '1', 'bathroom', '.'], ['what', 'is', 'a', 'gays', 'favorite', 'sandwich', 'a', 'lgblt', '.'], ['why', 'do', 'mice', 'need', 'oiling', '?'], ['because', 'they', 'squeak', '!'], ['[', 'nsfw', ']', 'yesterday', 'i', 'gave', 'a', 'surprise', 'bukkake', 'party', 'to', 'my', 'roommate', '...', '...', 'everyone', 'came', '.'], ['you', 'should', 'have', 'seen', 'her', 'face', '.'], ['what', 'do', 'you', 'call', 'it', 'when', 'you', 'drown', 'a', 'baby', 'in', 'soda', '?'], ['infantacide', '*wears', 'shoulder', 'pads', 'for', 'the', 'angel', 'and', 'devil', 'on', 'my', 'shoulders', '*pimps', 'their', 'ride', 'the', 'first', 'rule', 'of', 'thesaurus', 'club', 'is', 'you', 'do', \"n't\", 'talk', 'about', ',', 'mention', ',', 'speak', 'of', ',', 'discuss', ',', 'or', 'chat', 'about', 'thesaurus', 'club', '.'], ['in', 'light', 'of', 'mlk', 'day', '...', 'african', 'american', 'culture', 'has', 'fought', 'so', 'hard', 'not', 'to', 'have', 'to', 'sit', 'at', 'the', 'back', 'of', 'the', 'bus', '.'], ['but', 'they', 'still', 'do', 'anyway', '.'], ['[', 'trying', 'to', 'unhook', 'a', 'bra', ']', '*kung', 'fu', 'noises*', 'some', 'people', 'have', 'six', 'packs', '...', 'i', 'have', 'a', 'keg', '.'], ['my', 'wife', ',', 'however', ',', 'has', 'a', 'goddamned', 'brewery', '.'], ['how', 'do', 'you', 'know', 'you', \"'re\", 'at', 'a', 'gay', 'barbecue', '?'], ['the', 'hot', 'dogs', 'taste', 'like', 'ass', '.'], ['i', 'decided', 'to', 'play', 'agar.io', 'again', '...', 'now', 'i', 'hate', 'my', 'cellf', 'quit', 'my', 'job', 'a', 'few', 'years', 'ago', 'because', 'my', 'boss', 'was', 'an', 'idiot', '.'], ['now', 'i', \"'m\", 'self-employed', '.'], ['my', 'boss', 'is', 'still', 'an', 'idiot', '.'], ['i', 'was', 'born', 'to', 'be', 'happy', '...', 'not', 'normal', '.'], ['a', 'man', 'goes', 'to', 'a', 'doctor', 'one', 'day', 'and', 'says', '...', '``', 'doctor', '!'], ['please', ',', 'i', 'need', 'a', 'solution', '.'], ['i', 'have', '5', 'dicks', '!', \"''\"], ['``', 'well', ',', 'that', 'is', 'astounding', '!'], ['tell', 'me', ',', 'how', 'do', 'your', 'pants', 'feel', '?', \"''\"], ['``', 'like', 'a', 'glove', '!', \"''\"], ['ever', 'notice', 'how', 'white', 'women', 'over', '40', 'ca', \"n't\", 'dance', 'without', 'clapping', '?'], ['what', 'does', 'a', 'frozen', 'beer', ',', 'burnt', 'pizza', ',', 'and', 'pregnant', 'girl', 'all', 'have', 'in', 'common', '?'], ['they', 'all', 'happened', 'because', 'some', 'dumbass', 'did', \"n't\", 'pull', 'it', 'out', 'in', 'time', '.'], ['why', 'did', 'the', 'american', 'spend', 'an', 'entire', 'winter', 'in', 'a', 'russian', 'hotel', '?'], ['they', 'say', 'he', 'was', 'snowed', 'in', '.'], ['my', 'grandma', 'caught', 'me', 'masturbating', 'and', 'she', 'had', 'a', 'stroke', '...', 'she', 'has', 'such', 'soft', 'hands', '...', 'classic', 'how', 'do', 'you', 'make', 'a', 'ice', 'cream', 'man', 'sad', '?'], ['-', '-', '-', '-', '-', '-', 'kill', 'his', 'family', '.'], ['relationship', 'status', ':', 'we', 'made', 'our', 'marriage', 'counselor', 'cry', '.'], ['why', 'are', 'there', 'different', 'species', 'of', 'hyena', '?'], ['is', \"n't\", 'every', 'hyena', 'we', \"'ve\", 'discovered', 'a', 'spotted', 'hyena', '?'], ['hear', 'about', 'the', 'paranoid', 'guy', 'who', 'stopped', 'using', 'twitter', '?'], ['he', 'said', 'everyone', 'was', 'following', 'him', '.'], ['i', 'just', 'sat', 'through', 'two', 'hours', 'of', 'jersey', 'shore', '.'], ['apparently', 'the', 'stupid', 'i', 'was', 'born', 'with', 'was', \"n't\", 'stupid', 'enough', '.'], ['speaking', 'of', 'jokes', 'that', 'are', \"n't\", 'funny', 'cut', 'it', 'out', 'with', 'the', 'abortion', 'ones', 'did', 'you', 'hear', 'about', 'the', 'woman', 'who', 'died', 'at', 'an', 'orgy', 'last', 'night', '?'], ['she', 'went', 'down', 'swinging', '.'], ['me', ':', 'do', \"n't\", 'you', 'see', ',', 'the', 'treasure', 'is', 'our', 'friendship', 'pirate', ':', '...', 'aye', 'me', ':', 'p', ':', 'i', 'cherish', 'ya', 'me', 'matey', 'but', 'honestly', 'ya', 'misled', 'me', 'a', 'tad', 'did', \"n't\", 'ya', 'why', 'is', 'an', 'elephant', 'braver', 'than', 'a', 'hen', '?'], ['because', 'the', 'elephant', 'is', \"n't\", 'chicken', '!'], ['how', 'does', 'moses', 'make', 'coffee', '?'], ['hebrews', 'it', '.'], ['the', 'next', 'version', 'of', 'android', 'oughta', 'be', 'called', 'nuts', '.'], ['that', 'way', 'i', 'can', 'tell', 'everyone', 'that', 'they', \"'re\", 'holding', 'an', 'android', 'with', 'its', 'nuts', 'in', 'their', 'hand', '.'], ['the', 'most', 'canadian', 'thing', 'i', 'ever', 'heard', 'was', 'a', 'secondhand', 'story', 'about', 'a', 'guy', 'getting', 'his', 'toe', 'bit', 'off', 'by', 'a', 'beaver', 'but', 'not', 'telling', 'his', 'date', '.'], ['say', 'what', 'you', 'will', 'about', 'pedophiles', '...', '...', 'but', 'they', 'do', 'slow', 'down', 'in', 'school', 'zones', '!'], ['what', 'do', 'you', 'use', 'to', 'buy', 'drinks', '?'], ['bar', 'tender', 'my', 'stalker', 'twisted', 'his', 'ankle', ',', 'so', 'now', 'i', 'have', 'to', 'walk', 'slower', 'for', '2-3', 'weeks', '.'], ['when', 'my', 'wife', 'left', ',', 'i', 'was', 'sad', 'and', 'lonely', 'so', 'i', 'got', 'a', 'dog', ',', 'a', 'new', 'motorbike', ',', 'shagged', '2', 'women', 'and', 'blew', 'a', 'grand', 'on', 'drugs', 'and', 'alcohol', '.'], ['she', \"'s\", 'going', 'to', 'go', 'fucking', 'nuts', 'when', 'she', 'gets', 'back', 'from', 'work', '.'], ['what', 'do', 'they', 'say', 'when', 'you', 'leave', 'an', 'abortion', 'clinic', 'in', 'germany', '?'], ['al-fetus-zane', 'what', \"'s\", 'a', 'blonde', \"'s\", 'favorite', 'color', '?'], ['a', 'light', 'shade', 'of', 'clear', '.'], ['never', 'try', 'to', 'pay', 'a', 'prostitute', 'with', 'chocolate', 'covered', 'ice', 'cream', '.'], ['apparently', ',', 'there', 'are', 'limits', 'to', 'what', 'someone', 'will', 'do', 'for', 'a', 'klondike', 'bar', '.'], ['what', \"'s\", 'grey', 'and', 'comes', 'in', 'gallons', '?'], ['an', 'elephant', '.'], ['what', 'do', 'you', 'get', 'when', 'you', 'goose', 'a', 'ghost', '?'], ['you', 'get', 'a', 'lot', 'of', 'sheet', '.'], ['if', 'we', 'are', \"n't\", 'supposed', 'to', 'eat', 'animals', ',', 'why', 'are', 'they', 'made', 'with', 'meat', '?'], ['i', 'have', 'somewhere', 'around', '300', 'karma', 'i', 'intend', 'to', 'drop', 'it', 'to', '0', 'by', 'having', 'human-like', 'opinions', 'on', 'the', 'wrong', 'subreddits', 'i', 'was', 'going', 'to', 'make', 'a', 'joke', '...', 'but', 'i', 'fainted', 'so', 'i', 'was', 'applying', 'to', 'be', 'a', 'time', 'machine', 'technician..', 'there', 'was', \"n't\", 'any', 'openings', 'right', 'now', ',', 'but', 'there', 'may', 'be', 'in', 'the', 'future', '.'], ['behind', 'every', 'ladybug', 'there', \"'s\", 'a', 'gentleman', 'bug', 'who', 'is', 'tired', 'of', 'dealing', 'with', 'her', '.'], ['i', 'think', 'the', 'government', 'looks', 'at', 'twitter', 'and', 'thinks', \"'this\", 'is', 'way', 'cheaper', 'than', \"asylums'\", 'puns', 'about', 'women', 'are', 'not', 'funny', '.'], ['period', '.'], ['what', 'did', 'the', 'french', 'skeleton', 'say', 'before', 'he', 'ate', '?'], ['bone', 'apetit', 'i', \"'ve\", 'made', 'many', 'sacrifices', 'to', 'get', 'where', 'i', 'am', 'today', '.'], ['most', 'of', 'them', 'were', 'children', '.'], ['life', 'is', 'like', 'toilet', 'paper', ',', 'you', \"'re\", 'either', 'on', 'a', 'roll', 'or', 'you', \"'re\", 'taking', 'sh', '!', 't', 'from', 'some', '@', 'sshole', '!'], ['what', 'do', 'spinach', 'and', 'anal', 'sex', 'have', 'in', 'common', '?'], ['if', 'you', \"'re\", 'forced', 'to', 'have', 'it', 'as', 'a', 'child', ',', 'you', \"'re\", 'not', 'going', 'to', 'like', 'it', 'as', 'an', 'adult', '.'], ['i', 'like', 'my', 'women', 'like', 'i', 'like', 'my', 'm.c', '.'], ['escher', 'paintings', 'impossibly', 'proportioned', 'why', 'does', 'ariel', 'wear', 'seashells', '?'], ['because', 'she', 'ca', \"n't\", 'fit', 'into', 'd', 'shells', 'facebook', 'is', 'like', 'prison', 'because', 'you', 'write', 'on', 'walls', 'and', 'people', 'you', 'do', \"n't\", 'know', 'poke', 'you', '.'], ['so', 'i', 'thought', 'about', 'getting', 'a', 'chinese', 'hooker', '...', 'but', 'then', 'i', 'realized', 'that', 'i', \"'d\", 'just', 'be', 'horny', 'again', 'in', 'an', 'hour', 'hey', ',', 'did', 'you', 'fall', 'from', 'heaven', '?'], ['so', 'did', 'satan', '.'], ['dirtiest', 'joke', 'i', 've', 'ever', 'heard', '(', 'sorry', 'if', 'it', 's', 'a', 'repost', ')', 'how', 'can', 'you', 'tell', 'when', 'your', 'sister', 's', 'having', 'her', 'period', '?'], ['your', 'dad', 's', 'cock', 'starts', 'to', 'taste', 'of', 'blood', '.'], ['what', 'rock', 'group', 'has', '4', 'men', 'that', 'do', 'not', 'sing', '?'], ['mt', '.'], ['rushmore', 'what', 'are', 'cephalopod', 'ghosts', 'made', 'of', '?'], ['octoplasm', '.'], ['what', 'does', 'freud', 'like', 'to', 'do', 'with', 'his', 'mum', 'oedipussy', '[', 'first', 'day', 'as', 'a', 'bartender', ']', 'customer', ':', 'gim', 'me', 'a', 'scotch', 'on', 'the', 'rocks', 'me', '[', 'scrunching', 'towel', 'into', 'glass', ']', ':', 'i', 'know', 'lemonade', ',', 'i', 'can', 'do', 'lemonade', 'what', 'do', 'you', 'call', 'a', 'mexican', 'woman', 'with', 'no', 'legs', '?'], ['consuelo', 'pronounced', '-', 'cunts-way-low', 'i', 'drop', 'it', 'like', 'it', \"'s\", 'an', 'expensive', 'electronic', 'device', 'i', \"'ve\", 'recently', 'purchased', '.'], ['there', 'are', 'two', 'kinds', 'of', 'people', 'in', 'this', 'world', '.'], ['people', 'who', 'say', 'they', 'piss', 'in', 'the', 'shower', ',', 'and', 'dirty', 'fucking', 'liars', '.'], ['cabin', 'fever', '...', 'a', 'man', 'says', 'to', 'his', 'wife', ',', '``', 'can', 'you', 'tell', 'me', 'something', 'that', 'makes', 'me', 'angry', 'and', 'happy', 'at', 'the', 'same', 'time', '?', \"''\"], ['she', 'thinks', 'about', 'it', 'and', 'says', ',', '``', 'sure', '.'], ['you', 'got', 'a', 'bigger', 'dick', 'than', 'your', 'brother', '.', \"''\"], ['sometimes', 'you', \"'ve\", 'got', 'to', 'ask', 'yourself', ':', \"'why\", 'am', 'i', 'talking', 'to', 'myself', '?', \"'\"], ['why', 'did', 'adele', 'cross', 'the', 'road', 'to', 'say', 'hello', 'from', 'the', 'other', 'side', 'what', \"'s\", 'the', 'difference', 'between', 'a', 'bag', 'of', 'cocaine', 'and', 'a', 'small', 'child', '?'], ['eric', 'clapton', 'would', 'never', 'let', 'a', 'small', 'bag', 'of', 'cocaine', 'fall', 'out', 'of', 'a', 'window', '.'], ['muslims', 'are', 'against', 'the', 'consumption', 'of', 'pork', 'and', 'believe', 'the', 'pig', 'to', 'be', 'unclean', '.'], ['yet', 'their', 'prophet', 'has', 'ham', 'in', 'his', 'name', '.'], ['i', 'would', 'tell', 'you', 'a', 'complicated', 'joke', 'but', 'there', 'is', 'no', 'chance', 'that', 'your', 'incapable', 'human', 'mind', 'has', 'any', 'possibility', 'of', 'comprehending', 'what', 'it', 'means', '.'], ['what', 'is', 'a', 'burp', '?'], ['a', 'fart', 'taking', 'the', 'elevator', '.'], ['do', 'you', 'know', 'a', 'favourite', 'expression', 'used', 'by', 'the', 'gorillas', '?'], ['apesy', 'daisy', '!'], ['my', 'redneck', 'cousin', 'is', 'looking', 'for', 'a', 'girl', 'into', 'multiple', 'partners', '.'], ['i', 'told', 'him', 'that', 'was', 'ridiculously', 'cliche', '...', 'i', 'mean', 'really', '.'], ['cracker', 'wants', 'a', 'poly', '?'], ['why', 'was', 'the', 'pig', 'happy', 'when', 'reviewers', 'criticized', 'his', 'story', '?'], ['because', 'they', 'called', 'it', 'garbage', '.'], ['jeffrey', 'dahmer', 'and', 'his', 'mom', 'are', 'having', 'dinner', '.'], ['jeffey', \"'s\", 'mom', 'looks', 'over', 'at', 'him', 'and', 'says', '``', 'jeff', 'i', 'do', \"n't\", 'like', 'your', 'friends', \"''\", '.'], ['jeffery', 'then', 'replies', '``', 'you', 'can', 'eat', 'the', 'potatoes', \"''\", '.'], ['hey', 'symphonies', ',', 'play', 'the', 'main', 'part', 'we', 'like', 'more', '.'], ['an', 'original', 'joke', 'about', 'mathew', 'and', 'not-mathew', '.'], ['me', ':', 'mathew', 'and', 'not-mathew', 'were', 'on', 'a', 'boat', '.'], ['mathew', 'fell', 'off', 'the', 'boat', '.'], ['who', 'was', 'left', '?'], ['you', ':', 'not-mathew', '.'], ['me', ':', 'yeah', 'mathew', 'was', 'the', 'one', 'who', 'fell', 'out', '.'], ['idiot', '.'], ['knock', 'knock', '.'], ['who', \"'s\", 'there', '?'], ['9/11', '.'], ['9/11', 'who', '?'], ['you', 'said', 'you', \"'ll\", 'never', 'forget', '...', '..', 'what', 'song', 'do', 'they', 'play', 'at', 'a', 'jehovah', \"'s\", 'witness', 'funeral', '?'], ['knock', ',', 'knock', ',', 'knockin', 'on', 'heavens', 'door', 'burger', 'king', 'needs', 'a', 'new', 'slogan', '.'], ['something', 'like', '``', 'we', 'clean', 'our', 'bathrooms', 'now', '.', \"''\"], ['wan', 'na', 'hear', 'something', 'really', 'disappointing', '?'], ['too', 'bad', '.'], ['it', 'would', 'be', 'funny', 'if', ',', 'with', 'everyone', 'freaking', 'out', 'about', 'global', 'warming', 'we', 'ended', 'up', 'dying', 'in', 'a', 'good', 'old', '60s', 'throwback', 'nuclear', 'war', 'with', 'russia', '.'], ['what', 'do', 'you', 'tell', 'a', 'gardener', 'with', 'a', 'psych', 'major', '?'], ['i', 'fucking', 'hate', 'my', 'mom', '.'], ['i', 'tried', 'to', 'catch', 'fog', 'yesterday', '...', 'mist', '.'], ['whats', 'the', 'best', 'thing', 'about', 'an', 'ethiopian', 'blowjob', '?'], ['they', 'always', 'swallow', 'how', 'many', 'men', 'does', 'it', 'take', 'to', 'change', 'a', 'light', 'bulb', '?'], ['not', 'all', 'of', 'them', '.'], ['deep', 'down', ',', 'we', \"'re\", 'all', 'that', 'one', 'lady', 'in', '7-11', 'with', 'her', 'bathrobe', 'on', '.'], ['mr.', 'schneider', 'stood', 'up', 'in', 'court', '.'], ['``', 'as', 'god', 'is', 'my', 'judge', 'i', 'do', 'not', 'owe', 'my', 'ex-wife', 'any', 'money', '.', \"''\"], ['glaring', 'down', 'at', 'him', 'the', 'judge', 'replied', '``', 'he', \"'s\", 'not', '.'], ['i', 'am', '.'], ['you', 'do', '.', \"''\"], ['why', 'do', 'they', 'keep', 'making', 'tvs', 'thinner', 'and', 'thinner', '?'], ['to', 'keep', 'up', 'with', 'the', 'content', '.'], ['my', 'salad', 'for', 'lunch', 'is', 'missing', 'one', 'key', 'ingredient', 'which', 'would', 'make', 'it', 'perfect', '.'], ['donuts', '.'], ['what', 'did', 'obama', 'say', 'when', 'he', 'called', 'the', 'russian', 'parliament', '?'], ['``', 'are', 'you', 'putin', 'me', 'on', '?', \"''\"], ['i', 'am', 'the', 'boss', ',', 'do', 'not', 'forget', 'boss', 'hangs', 'a', 'poster', 'in', 'office', '``', 'i', 'am', 'the', 'boss', ',', 'do', 'not', 'forget', \"''\", 'he', 'returns', 'from', 'lunch', ',', 'finds', 'a', 'slip', 'on', 'his', 'desk', '.'], ['``', 'ur', 'wife', 'called', ',', 'she', 'wants', 'her', 'poster', 'back', 'home', '.', \"''\"], ['what', \"'s\", 'green', 'and', 'smells', 'like', 'bacon', '?'], ['kermit', \"'s\", 'fingers', 'what', 'do', 'palestinian', 'children', 'dream', 'of', 'becoming', 'when', 'they', 'grow', 'up', '?'], ['old', 'did', 'you', 'see', 'how', 'nervous', 'c-3po', 'was', 'in', 'the', 'new', 'movie', '?'], ['i', 'mean', 'he', 'did', 'seem', 'a', 'little', 'red', 'what', 'did', 'the', 'psychiatrist', 'say', 'to', 'the', 'man', 'wearing', 'nothing', 'but', 'saran', 'wrap', '?'], ['i', 'can', 'clearly', 'see', 'you', \"'re\", 'nuts', '!'], ['we', 'could', 'power', 'our', 'entire', 'office', 'with', 'the', 'wind', 'produced', 'from', 'my', 'constant', 'sighing', '.'], ['how', 'many', 'black', 'people', 'does', 'it', 'take', 'to', 'shingle', 'a', 'roof', '?', '?'], ['one', '...', '.but', 'you', 'got', 'ta', 'slice', 'him', 'reeeeeaaaalllllll', 'thinnnnnnnnnnnnn', '...', '..', 'i', 'just', 'got', 'an', 'email', 'offering', '``', 'free', 'bible', 'verses', \"''\", '.'], ['you', 'know', ',', 'because', 'who', 'can', 'afford', 'bible', 'verses', '?'], ['what', \"'s\", 'the', 'difference', 'between', 'a', 'lobster', 'with', 'big', 'boobs', 'and', 'a', 'greyhound', 'bus', 'stop', '?'], ['one', 'is', 'a', 'crusty', 'bus', 'station', ',', 'one', 'is', 'a', 'busty', 'crustacean', '.'], ['one', 'day', 'isis', 'is', 'going', 'to', 'screw', 'up', 'and', 'accidentally', 'hit', \"'add\", 'your', 'location', \"'\", 'to', 'a', 'tweet', '.'], ['what', 'does', 'the', 'beginning', 'of', 'the', 'german', 'alphabet', 'start', 'with', '?'], ['not', 'z.', 'yo', 'momma', 'so', 'fat..', '..she', 'has', 'a', 'real', 'horse', 'on', 'her', 'polo', 'shirt', '.'], ['it', 'is', 'better', 'to', 'be', 'on', 'seventh', 'heaven', ',', 'rather', 'than', 'on', 'the', 'seventh', 'month', '.'], ['what', 'do', 'you', 'do', 'with', 'an', 'epileptic', 'lettuce', '?'], ['you', 'make', 'a', 'seizure', 'salad', 'what', 'did', 'the', 'cop', 'say', 'to', 'the', 'doughnut', 'as', 'he', 'ate', 'it', '?'], ['rest', 'in', '**police**', '.'], ['i', 'think', 'the', 'main', 'issue', 'with', \"'the\", 'hunger', 'games', \"'\", 'is', 'that', 'while', 'her', 'life', 'is', 'at', 'stake', ',', 'boy', 'problems', 'are', 'still', 'presented', 'as', 'legitimate', 'threats', '.']]\n"
    }
   ],
   "source": [
    "print(tokenized_text[:1000])"
   ]
  },
  {
   "cell_type": "code",
   "execution_count": 25,
   "metadata": {},
   "outputs": [],
   "source": [
    "from nltk.lm.preprocessing import padded_everygram_pipeline\n",
    "\n",
    "# Preprocess the tokenized text for 3-grams language modelling\n",
    "n = 3\n",
    "train_data, padded_sents = padded_everygram_pipeline(n, tokenized_text)"
   ]
  },
  {
   "cell_type": "code",
   "execution_count": 26,
   "metadata": {},
   "outputs": [],
   "source": [
    "from nltk.lm import MLE\n",
    "model = MLE(n) # Lets train a 3-grams model, previously we set n=3"
   ]
  },
  {
   "cell_type": "code",
   "execution_count": 27,
   "metadata": {},
   "outputs": [
    {
     "data": {
      "text/plain": "0"
     },
     "execution_count": 27,
     "metadata": {},
     "output_type": "execute_result"
    }
   ],
   "source": [
    "len(model.vocab)"
   ]
  },
  {
   "cell_type": "code",
   "execution_count": 28,
   "metadata": {},
   "outputs": [
    {
     "name": "stdout",
     "output_type": "stream",
     "text": "<Vocabulary with cutoff=1 unk_label='<UNK>' and 23394 items>\n"
    }
   ],
   "source": [
    "model.fit(train_data, padded_sents)\n",
    "print(model.vocab)"
   ]
  },
  {
   "cell_type": "code",
   "execution_count": 29,
   "metadata": {},
   "outputs": [
    {
     "data": {
      "text/plain": "23394"
     },
     "execution_count": 29,
     "metadata": {},
     "output_type": "execute_result"
    }
   ],
   "source": [
    "len(model.vocab)"
   ]
  },
  {
   "cell_type": "code",
   "execution_count": 30,
   "metadata": {},
   "outputs": [
    {
     "name": "stdout",
     "output_type": "stream",
     "text": "<NgramCounter with 3 ngram orders and 1531080 ngrams>\n"
    }
   ],
   "source": [
    "print(model.counts)"
   ]
  },
  {
   "cell_type": "code",
   "execution_count": 31,
   "metadata": {},
   "outputs": [
    {
     "name": "stdout",
     "output_type": "stream",
     "text": "['<s>', '<s>', 'me', ':', 'yes', \"ma'am\", 'they', 'ca', \"n't\", 'recall', 'where', 'i', 'ran', 'over', 'your', 'own', 'tweets', ',', 'you', 'will']\n"
    }
   ],
   "source": [
    "print(model.generate(20, random_seed=321))"
   ]
  },
  {
   "cell_type": "code",
   "execution_count": 32,
   "metadata": {},
   "outputs": [],
   "source": [
    "from nltk.tokenize.treebank import TreebankWordDetokenizer\n",
    "\n",
    "detokenize = TreebankWordDetokenizer().detokenize\n",
    "\n",
    "def generate_sent(model, num_words, random_seed=42):\n",
    "    \"\"\"\n",
    "    :param model: An ngram language model from `nltk.lm.model`.\n",
    "    :param num_words: Max no. of words to generate.\n",
    "    :param random_seed: Seed value for random.\n",
    "    \"\"\"\n",
    "    content = []\n",
    "    for token in model.generate(num_words, random_seed=random_seed):\n",
    "        if token == '<s>':\n",
    "            continue\n",
    "        if token == '</s>':\n",
    "            break\n",
    "        content.append(token)\n",
    "    return detokenize(content)"
   ]
  },
  {
   "cell_type": "code",
   "execution_count": 33,
   "metadata": {},
   "outputs": [
    {
     "name": "stdout",
     "output_type": "stream",
     "text": "me: yes ma'am they can't recall where i ran over your own tweets, you will\nthe second most popular family car in a lightbulb?\nno one.\nhiding my shit i just stopped at a cafe and said``no thank-you\", then most facebook status\nfund.\n: checking your phone when i discovered a contraceptive better than sex i mostly hit 3's and copy exactly\nthe smallest region in the breakroom, i'm cold and dry ;) guess who's there?\nis such a rip-off.\nsorry, i can't steven hawking runs.. ..on batteries.\n"
    }
   ],
   "source": [
    "for i in range(321, 330):\n",
    "    print(generate_sent(model, 20, random_seed=i))"
   ]
  }
 ]
}