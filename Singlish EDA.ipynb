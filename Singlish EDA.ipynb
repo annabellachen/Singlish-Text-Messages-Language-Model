{
 "cells": [
  {
   "cell_type": "markdown",
   "metadata": {},
   "source": [
    "## Exploring and trying a baseline ngram language model of the NUS SMS Corpus\n",
    "\n",
    "This is a corpus of SMS (Short Message Service) messages collected for research at the Department of Computer Science at the National University of Singapore. This dataset consists of 55,835 SMS messages. The messages largely originate from Singaporeans and mostly from students attending the University. These messages were collected from volunteers who were made aware that their contributions were going to be made publicly available. The data collectors opportunistically collected as much metadata about the messages and their senders as possible, so as to enable different types of analyses.\n",
    "\n",
    "Data is available from: https://www.kaggle.com/rtatman/the-national-university-of-singapore-sms-corpus \n",
    "\n",
    "Tao Chen and Min-Yen Kan (2013). Creating a Live, Public Short Message Service Corpus: The NUS SMS Corpus. Language Resources and Evaluation, 47(2)(2013), pages 299-355.\n",
    "\n",
    "This notebook is also used to generate the data for training."
   ]
  },
  {
   "cell_type": "code",
   "execution_count": 1,
   "metadata": {},
   "outputs": [],
   "source": [
    "import json\n",
    "import pandas as pd\n",
    "from statistics import mean, median, mode\n",
    "import matplotlib.pyplot as plt\n"
   ]
  },
  {
   "cell_type": "code",
   "execution_count": 2,
   "metadata": {},
   "outputs": [],
   "source": [
    "with open('data/smsCorpus_en_2015.03.09_all.json', encoding='utf-8') as f:\n",
    "    data = json.load(f)"
   ]
  },
  {
   "cell_type": "code",
   "execution_count": 3,
   "metadata": {},
   "outputs": [
    {
     "data": {
      "text/plain": "{'@id': 10220,\n 'text': {'$': 'm going to be late leh.'},\n 'source': {'srcNumber': {'$': 51},\n  'phoneModel': {'@manufactuer': 'unknown', '@smartphone': 'unknown'},\n  'userProfile': {'userID': {'$': 51},\n   'age': {'$': 'unknown'},\n   'gender': {'$': 'unknown'},\n   'nativeSpeaker': {'$': 'unknown'},\n   'country': {'$': 'SG'},\n   'city': {'$': 'unknown'},\n   'experience': {'$': 'unknown'},\n   'frequency': {'$': 'unknown'},\n   'inputMethod': {'$': 'unknown'}}},\n 'destination': {'@country': 'unknown', 'destNumber': {'$': 'unknown'}},\n 'messageProfile': {'@language': 'en', '@time': 'unknown', '@type': 'unknown'},\n 'collectionMethod': {'@collector': 'howyijue',\n  '@method': 'unknown',\n  '@time': '2003/4'}}"
     },
     "execution_count": 3,
     "metadata": {},
     "output_type": "execute_result"
    }
   ],
   "source": [
    "data['smsCorpus']['message'][100]"
   ]
  },
  {
   "cell_type": "code",
   "execution_count": 4,
   "metadata": {},
   "outputs": [],
   "source": [
    "try: # Use the default NLTK tokenizer.\n",
    "    from nltk import word_tokenize, sent_tokenize \n",
    "    # Testing whether it works. \n",
    "    # Sometimes it doesn't work on some machines because of setup issues.\n",
    "    word_tokenize(sent_tokenize(\"This is a foobar sentence. Yes it is.\")[0])\n",
    "except: # Use a naive sentence tokenizer and toktok.\n",
    "    import re\n",
    "    from nltk.tokenize import ToktokTokenizer\n",
    "    # See https://stackoverflow.com/a/25736515/610569\n",
    "    sent_tokenize = lambda x: re.split(r'(?<=[^A-Z].[.?]) +(?=[A-Z])', x)\n",
    "    # Use the toktok tokenizer that requires no dependencies.\n",
    "    toktok = ToktokTokenizer()\n",
    "    word_tokenize = word_tokenize = toktok.tokenize"
   ]
  },
  {
   "cell_type": "code",
   "execution_count": 5,
   "metadata": {},
   "outputs": [
    {
     "name": "stdout",
     "output_type": "stream",
     "text": "Number of Users: 343\nNumber of Texts: 55835\nMost common word counts per text message:  6\nMost common character counts per text message:  20\nMedian character counts per text message:  36\nMax character counts per text message:  910\n"
    }
   ],
   "source": [
    "users = set()\n",
    "texts = []\n",
    "characters = []\n",
    "\n",
    "for text in data['smsCorpus']['message']:\n",
    "    users.add(text['source']['userProfile']['userID']['$'])\n",
    "    texts.append(word_tokenize(str(text['text']['$'])))\n",
    "    characters.append(str(text['text']['$']))\n",
    "\n",
    "    \n",
    "words = [len(text) for text in texts]\n",
    "characters_count = [len(text) for text in characters]\n",
    "\n",
    "print(\"Number of Users:\", len(users))\n",
    "print(\"Number of Texts:\", len(data['smsCorpus']['message']))\n",
    "print(\"Most common word counts per text message: \", mode(words))\n",
    "print(\"Most common character counts per text message: \", mode(characters_count))\n",
    "print(\"Median character counts per text message: \", median(characters_count))\n",
    "print(\"Max character counts per text message: \", max(characters_count))\n",
    "# print(texts[:1000])"
   ]
  },
  {
   "cell_type": "code",
   "execution_count": 6,
   "metadata": {},
   "outputs": [
    {
     "data": {
      "image/png": "[encoded data removed]",
      "image/svg+xml": "<?xml version=\"1.0\" encoding=\"utf-8\" standalone=\"no\"?>\r\n<!DOCTYPE svg PUBLIC \"-//W3C//DTD SVG 1.1//EN\"\r\n  \"http://www.w3.org/Graphics/SVG/1.1/DTD/svg11.dtd\">\r\n<!-- Created with matplotlib (https://matplotlib.org/) -->\r\n<svg height=\"248.518125pt\" version=\"1.1\" viewBox=\"0 0 388.0125 248.518125\" width=\"388.0125pt\" xmlns=\"http://www.w3.org/2000/svg\" xmlns:xlink=\"http://www.w3.org/1999/xlink\">\r\n <defs>\r\n  <style type=\"text/css\">\r\n*{stroke-linecap:butt;stroke-linejoin:round;}\r\n  </style>\r\n </defs>\r\n <g id=\"figure_1\">\r\n  <g id=\"patch_1\">\r\n   <path d=\"M 0 248.518125 \r\nL 388.0125 248.518125 \r\nL 388.0125 0 \r\nL 0 0 \r\nz\r\n\" style=\"fill:none;\"/>\r\n  </g>\r\n  <g id=\"axes_1\">\r\n   <g id=\"patch_2\">\r\n    <path d=\"M 46.0125 224.64 \r\nL 380.8125 224.64 \r\nL 380.8125 7.2 \r\nL 46.0125 7.2 \r\nz\r\n\" style=\"fill:#ffffff;\"/>\r\n   </g>\r\n   <g id=\"patch_3\">\r\n    <path clip-path=\"url(#pe5d2fd95d1)\" d=\"M 61.230682 224.64 \r\nL 91.667045 224.64 \r\nL 91.667045 17.554286 \r\nL 61.230682 17.554286 \r\nz\r\n\" style=\"fill:#1f77b4;\"/>\r\n   </g>\r\n   <g id=\"patch_4\">\r\n    <path clip-path=\"url(#pe5d2fd95d1)\" d=\"M 91.667045 224.64 \r\nL 122.103409 224.64 \r\nL 122.103409 193.604283 \r\nL 91.667045 193.604283 \r\nz\r\n\" style=\"fill:#1f77b4;\"/>\r\n   </g>\r\n   <g id=\"patch_5\">\r\n    <path clip-path=\"url(#pe5d2fd95d1)\" d=\"M 122.103409 224.64 \r\nL 152.539773 224.64 \r\nL 152.539773 220.35891 \r\nL 122.103409 220.35891 \r\nz\r\n\" style=\"fill:#1f77b4;\"/>\r\n   </g>\r\n   <g id=\"patch_6\">\r\n    <path clip-path=\"url(#pe5d2fd95d1)\" d=\"M 152.539773 224.64 \r\nL 182.976136 224.64 \r\nL 182.976136 223.392443 \r\nL 152.539773 223.392443 \r\nz\r\n\" style=\"fill:#1f77b4;\"/>\r\n   </g>\r\n   <g id=\"patch_7\">\r\n    <path clip-path=\"url(#pe5d2fd95d1)\" d=\"M 182.976136 224.64 \r\nL 213.4125 224.64 \r\nL 213.4125 224.202261 \r\nL 182.976136 224.202261 \r\nz\r\n\" style=\"fill:#1f77b4;\"/>\r\n   </g>\r\n   <g id=\"patch_8\">\r\n    <path clip-path=\"url(#pe5d2fd95d1)\" d=\"M 213.4125 224.64 \r\nL 243.848864 224.64 \r\nL 243.848864 224.482414 \r\nL 213.4125 224.482414 \r\nz\r\n\" style=\"fill:#1f77b4;\"/>\r\n   </g>\r\n   <g id=\"patch_9\">\r\n    <path clip-path=\"url(#pe5d2fd95d1)\" d=\"M 243.848864 224.64 \r\nL 274.285227 224.64 \r\nL 274.285227 224.574339 \r\nL 243.848864 224.574339 \r\nz\r\n\" style=\"fill:#1f77b4;\"/>\r\n   </g>\r\n   <g id=\"patch_10\">\r\n    <path clip-path=\"url(#pe5d2fd95d1)\" d=\"M 274.285227 224.64 \r\nL 304.721591 224.64 \r\nL 304.721591 224.587471 \r\nL 274.285227 224.587471 \r\nz\r\n\" style=\"fill:#1f77b4;\"/>\r\n   </g>\r\n   <g id=\"patch_11\">\r\n    <path clip-path=\"url(#pe5d2fd95d1)\" d=\"M 304.721591 224.64 \r\nL 335.157955 224.64 \r\nL 335.157955 224.626868 \r\nL 304.721591 224.626868 \r\nz\r\n\" style=\"fill:#1f77b4;\"/>\r\n   </g>\r\n   <g id=\"patch_12\">\r\n    <path clip-path=\"url(#pe5d2fd95d1)\" d=\"M 335.157955 224.64 \r\nL 365.594318 224.64 \r\nL 365.594318 224.604981 \r\nL 335.157955 224.604981 \r\nz\r\n\" style=\"fill:#1f77b4;\"/>\r\n   </g>\r\n   <g id=\"matplotlib.axis_1\">\r\n    <g id=\"xtick_1\">\r\n     <g id=\"line2d_1\">\r\n      <defs>\r\n       <path d=\"M 0 0 \r\nL 0 3.5 \r\n\" id=\"m9e2225985e\" style=\"stroke:#000000;stroke-width:0.8;\"/>\r\n      </defs>\r\n      <g>\r\n       <use style=\"stroke:#000000;stroke-width:0.8;\" x=\"60.895848\" xlink:href=\"#m9e2225985e\" y=\"224.64\"/>\r\n      </g>\r\n     </g>\r\n     <g id=\"text_1\">\r\n      <!-- 0 -->\r\n      <defs>\r\n       <path d=\"M 31.78125 66.40625 \r\nQ 24.171875 66.40625 20.328125 58.90625 \r\nQ 16.5 51.421875 16.5 36.375 \r\nQ 16.5 21.390625 20.328125 13.890625 \r\nQ 24.171875 6.390625 31.78125 6.390625 \r\nQ 39.453125 6.390625 43.28125 13.890625 \r\nQ 47.125 21.390625 47.125 36.375 \r\nQ 47.125 51.421875 43.28125 58.90625 \r\nQ 39.453125 66.40625 31.78125 66.40625 \r\nz\r\nM 31.78125 74.21875 \r\nQ 44.046875 74.21875 50.515625 64.515625 \r\nQ 56.984375 54.828125 56.984375 36.375 \r\nQ 56.984375 17.96875 50.515625 8.265625 \r\nQ 44.046875 -1.421875 31.78125 -1.421875 \r\nQ 19.53125 -1.421875 13.0625 8.265625 \r\nQ 6.59375 17.96875 6.59375 36.375 \r\nQ 6.59375 54.828125 13.0625 64.515625 \r\nQ 19.53125 74.21875 31.78125 74.21875 \r\nz\r\n\" id=\"DejaVuSans-48\"/>\r\n      </defs>\r\n      <g transform=\"translate(57.714598 239.238437)scale(0.1 -0.1)\">\r\n       <use xlink:href=\"#DejaVuSans-48\"/>\r\n      </g>\r\n     </g>\r\n    </g>\r\n    <g id=\"xtick_2\">\r\n     <g id=\"line2d_2\">\r\n      <g>\r\n       <use style=\"stroke:#000000;stroke-width:0.8;\" x=\"127.862545\" xlink:href=\"#m9e2225985e\" y=\"224.64\"/>\r\n      </g>\r\n     </g>\r\n     <g id=\"text_2\">\r\n      <!-- 200 -->\r\n      <defs>\r\n       <path d=\"M 19.1875 8.296875 \r\nL 53.609375 8.296875 \r\nL 53.609375 0 \r\nL 7.328125 0 \r\nL 7.328125 8.296875 \r\nQ 12.9375 14.109375 22.625 23.890625 \r\nQ 32.328125 33.6875 34.8125 36.53125 \r\nQ 39.546875 41.84375 41.421875 45.53125 \r\nQ 43.3125 49.21875 43.3125 52.78125 \r\nQ 43.3125 58.59375 39.234375 62.25 \r\nQ 35.15625 65.921875 28.609375 65.921875 \r\nQ 23.96875 65.921875 18.8125 64.3125 \r\nQ 13.671875 62.703125 7.8125 59.421875 \r\nL 7.8125 69.390625 \r\nQ 13.765625 71.78125 18.9375 73 \r\nQ 24.125 74.21875 28.421875 74.21875 \r\nQ 39.75 74.21875 46.484375 68.546875 \r\nQ 53.21875 62.890625 53.21875 53.421875 \r\nQ 53.21875 48.921875 51.53125 44.890625 \r\nQ 49.859375 40.875 45.40625 35.40625 \r\nQ 44.1875 33.984375 37.640625 27.21875 \r\nQ 31.109375 20.453125 19.1875 8.296875 \r\nz\r\n\" id=\"DejaVuSans-50\"/>\r\n      </defs>\r\n      <g transform=\"translate(118.318795 239.238437)scale(0.1 -0.1)\">\r\n       <use xlink:href=\"#DejaVuSans-50\"/>\r\n       <use x=\"63.623047\" xlink:href=\"#DejaVuSans-48\"/>\r\n       <use x=\"127.246094\" xlink:href=\"#DejaVuSans-48\"/>\r\n      </g>\r\n     </g>\r\n    </g>\r\n    <g id=\"xtick_3\">\r\n     <g id=\"line2d_3\">\r\n      <g>\r\n       <use style=\"stroke:#000000;stroke-width:0.8;\" x=\"194.829242\" xlink:href=\"#m9e2225985e\" y=\"224.64\"/>\r\n      </g>\r\n     </g>\r\n     <g id=\"text_3\">\r\n      <!-- 400 -->\r\n      <defs>\r\n       <path d=\"M 37.796875 64.3125 \r\nL 12.890625 25.390625 \r\nL 37.796875 25.390625 \r\nz\r\nM 35.203125 72.90625 \r\nL 47.609375 72.90625 \r\nL 47.609375 25.390625 \r\nL 58.015625 25.390625 \r\nL 58.015625 17.1875 \r\nL 47.609375 17.1875 \r\nL 47.609375 0 \r\nL 37.796875 0 \r\nL 37.796875 17.1875 \r\nL 4.890625 17.1875 \r\nL 4.890625 26.703125 \r\nz\r\n\" id=\"DejaVuSans-52\"/>\r\n      </defs>\r\n      <g transform=\"translate(185.285492 239.238437)scale(0.1 -0.1)\">\r\n       <use xlink:href=\"#DejaVuSans-52\"/>\r\n       <use x=\"63.623047\" xlink:href=\"#DejaVuSans-48\"/>\r\n       <use x=\"127.246094\" xlink:href=\"#DejaVuSans-48\"/>\r\n      </g>\r\n     </g>\r\n    </g>\r\n    <g id=\"xtick_4\">\r\n     <g id=\"line2d_4\">\r\n      <g>\r\n       <use style=\"stroke:#000000;stroke-width:0.8;\" x=\"261.795938\" xlink:href=\"#m9e2225985e\" y=\"224.64\"/>\r\n      </g>\r\n     </g>\r\n     <g id=\"text_4\">\r\n      <!-- 600 -->\r\n      <defs>\r\n       <path d=\"M 33.015625 40.375 \r\nQ 26.375 40.375 22.484375 35.828125 \r\nQ 18.609375 31.296875 18.609375 23.390625 \r\nQ 18.609375 15.53125 22.484375 10.953125 \r\nQ 26.375 6.390625 33.015625 6.390625 \r\nQ 39.65625 6.390625 43.53125 10.953125 \r\nQ 47.40625 15.53125 47.40625 23.390625 \r\nQ 47.40625 31.296875 43.53125 35.828125 \r\nQ 39.65625 40.375 33.015625 40.375 \r\nz\r\nM 52.59375 71.296875 \r\nL 52.59375 62.3125 \r\nQ 48.875 64.0625 45.09375 64.984375 \r\nQ 41.3125 65.921875 37.59375 65.921875 \r\nQ 27.828125 65.921875 22.671875 59.328125 \r\nQ 17.53125 52.734375 16.796875 39.40625 \r\nQ 19.671875 43.65625 24.015625 45.921875 \r\nQ 28.375 48.1875 33.59375 48.1875 \r\nQ 44.578125 48.1875 50.953125 41.515625 \r\nQ 57.328125 34.859375 57.328125 23.390625 \r\nQ 57.328125 12.15625 50.6875 5.359375 \r\nQ 44.046875 -1.421875 33.015625 -1.421875 \r\nQ 20.359375 -1.421875 13.671875 8.265625 \r\nQ 6.984375 17.96875 6.984375 36.375 \r\nQ 6.984375 53.65625 15.1875 63.9375 \r\nQ 23.390625 74.21875 37.203125 74.21875 \r\nQ 40.921875 74.21875 44.703125 73.484375 \r\nQ 48.484375 72.75 52.59375 71.296875 \r\nz\r\n\" id=\"DejaVuSans-54\"/>\r\n      </defs>\r\n      <g transform=\"translate(252.252188 239.238437)scale(0.1 -0.1)\">\r\n       <use xlink:href=\"#DejaVuSans-54\"/>\r\n       <use x=\"63.623047\" xlink:href=\"#DejaVuSans-48\"/>\r\n       <use x=\"127.246094\" xlink:href=\"#DejaVuSans-48\"/>\r\n      </g>\r\n     </g>\r\n    </g>\r\n    <g id=\"xtick_5\">\r\n     <g id=\"line2d_5\">\r\n      <g>\r\n       <use style=\"stroke:#000000;stroke-width:0.8;\" x=\"328.762635\" xlink:href=\"#m9e2225985e\" y=\"224.64\"/>\r\n      </g>\r\n     </g>\r\n     <g id=\"text_5\">\r\n      <!-- 800 -->\r\n      <defs>\r\n       <path d=\"M 31.78125 34.625 \r\nQ 24.75 34.625 20.71875 30.859375 \r\nQ 16.703125 27.09375 16.703125 20.515625 \r\nQ 16.703125 13.921875 20.71875 10.15625 \r\nQ 24.75 6.390625 31.78125 6.390625 \r\nQ 38.8125 6.390625 42.859375 10.171875 \r\nQ 46.921875 13.96875 46.921875 20.515625 \r\nQ 46.921875 27.09375 42.890625 30.859375 \r\nQ 38.875 34.625 31.78125 34.625 \r\nz\r\nM 21.921875 38.8125 \r\nQ 15.578125 40.375 12.03125 44.71875 \r\nQ 8.5 49.078125 8.5 55.328125 \r\nQ 8.5 64.0625 14.71875 69.140625 \r\nQ 20.953125 74.21875 31.78125 74.21875 \r\nQ 42.671875 74.21875 48.875 69.140625 \r\nQ 55.078125 64.0625 55.078125 55.328125 \r\nQ 55.078125 49.078125 51.53125 44.71875 \r\nQ 48 40.375 41.703125 38.8125 \r\nQ 48.828125 37.15625 52.796875 32.3125 \r\nQ 56.78125 27.484375 56.78125 20.515625 \r\nQ 56.78125 9.90625 50.3125 4.234375 \r\nQ 43.84375 -1.421875 31.78125 -1.421875 \r\nQ 19.734375 -1.421875 13.25 4.234375 \r\nQ 6.78125 9.90625 6.78125 20.515625 \r\nQ 6.78125 27.484375 10.78125 32.3125 \r\nQ 14.796875 37.15625 21.921875 38.8125 \r\nz\r\nM 18.3125 54.390625 \r\nQ 18.3125 48.734375 21.84375 45.5625 \r\nQ 25.390625 42.390625 31.78125 42.390625 \r\nQ 38.140625 42.390625 41.71875 45.5625 \r\nQ 45.3125 48.734375 45.3125 54.390625 \r\nQ 45.3125 60.0625 41.71875 63.234375 \r\nQ 38.140625 66.40625 31.78125 66.40625 \r\nQ 25.390625 66.40625 21.84375 63.234375 \r\nQ 18.3125 60.0625 18.3125 54.390625 \r\nz\r\n\" id=\"DejaVuSans-56\"/>\r\n      </defs>\r\n      <g transform=\"translate(319.218885 239.238437)scale(0.1 -0.1)\">\r\n       <use xlink:href=\"#DejaVuSans-56\"/>\r\n       <use x=\"63.623047\" xlink:href=\"#DejaVuSans-48\"/>\r\n       <use x=\"127.246094\" xlink:href=\"#DejaVuSans-48\"/>\r\n      </g>\r\n     </g>\r\n    </g>\r\n   </g>\r\n   <g id=\"matplotlib.axis_2\">\r\n    <g id=\"ytick_1\">\r\n     <g id=\"line2d_6\">\r\n      <defs>\r\n       <path d=\"M 0 0 \r\nL -3.5 0 \r\n\" id=\"m4f388b9e4b\" style=\"stroke:#000000;stroke-width:0.8;\"/>\r\n      </defs>\r\n      <g>\r\n       <use style=\"stroke:#000000;stroke-width:0.8;\" x=\"46.0125\" xlink:href=\"#m4f388b9e4b\" y=\"224.64\"/>\r\n      </g>\r\n     </g>\r\n     <g id=\"text_6\">\r\n      <!-- 0 -->\r\n      <g transform=\"translate(32.65 228.439219)scale(0.1 -0.1)\">\r\n       <use xlink:href=\"#DejaVuSans-48\"/>\r\n      </g>\r\n     </g>\r\n    </g>\r\n    <g id=\"ytick_2\">\r\n     <g id=\"line2d_7\">\r\n      <g>\r\n       <use style=\"stroke:#000000;stroke-width:0.8;\" x=\"46.0125\" xlink:href=\"#m4f388b9e4b\" y=\"180.866069\"/>\r\n      </g>\r\n     </g>\r\n     <g id=\"text_7\">\r\n      <!-- 10000 -->\r\n      <defs>\r\n       <path d=\"M 12.40625 8.296875 \r\nL 28.515625 8.296875 \r\nL 28.515625 63.921875 \r\nL 10.984375 60.40625 \r\nL 10.984375 69.390625 \r\nL 28.421875 72.90625 \r\nL 38.28125 72.90625 \r\nL 38.28125 8.296875 \r\nL 54.390625 8.296875 \r\nL 54.390625 0 \r\nL 12.40625 0 \r\nz\r\n\" id=\"DejaVuSans-49\"/>\r\n      </defs>\r\n      <g transform=\"translate(7.2 184.665287)scale(0.1 -0.1)\">\r\n       <use xlink:href=\"#DejaVuSans-49\"/>\r\n       <use x=\"63.623047\" xlink:href=\"#DejaVuSans-48\"/>\r\n       <use x=\"127.246094\" xlink:href=\"#DejaVuSans-48\"/>\r\n       <use x=\"190.869141\" xlink:href=\"#DejaVuSans-48\"/>\r\n       <use x=\"254.492188\" xlink:href=\"#DejaVuSans-48\"/>\r\n      </g>\r\n     </g>\r\n    </g>\r\n    <g id=\"ytick_3\">\r\n     <g id=\"line2d_8\">\r\n      <g>\r\n       <use style=\"stroke:#000000;stroke-width:0.8;\" x=\"46.0125\" xlink:href=\"#m4f388b9e4b\" y=\"137.092137\"/>\r\n      </g>\r\n     </g>\r\n     <g id=\"text_8\">\r\n      <!-- 20000 -->\r\n      <g transform=\"translate(7.2 140.891356)scale(0.1 -0.1)\">\r\n       <use xlink:href=\"#DejaVuSans-50\"/>\r\n       <use x=\"63.623047\" xlink:href=\"#DejaVuSans-48\"/>\r\n       <use x=\"127.246094\" xlink:href=\"#DejaVuSans-48\"/>\r\n       <use x=\"190.869141\" xlink:href=\"#DejaVuSans-48\"/>\r\n       <use x=\"254.492188\" xlink:href=\"#DejaVuSans-48\"/>\r\n      </g>\r\n     </g>\r\n    </g>\r\n    <g id=\"ytick_4\">\r\n     <g id=\"line2d_9\">\r\n      <g>\r\n       <use style=\"stroke:#000000;stroke-width:0.8;\" x=\"46.0125\" xlink:href=\"#m4f388b9e4b\" y=\"93.318206\"/>\r\n      </g>\r\n     </g>\r\n     <g id=\"text_9\">\r\n      <!-- 30000 -->\r\n      <defs>\r\n       <path d=\"M 40.578125 39.3125 \r\nQ 47.65625 37.796875 51.625 33 \r\nQ 55.609375 28.21875 55.609375 21.1875 \r\nQ 55.609375 10.40625 48.1875 4.484375 \r\nQ 40.765625 -1.421875 27.09375 -1.421875 \r\nQ 22.515625 -1.421875 17.65625 -0.515625 \r\nQ 12.796875 0.390625 7.625 2.203125 \r\nL 7.625 11.71875 \r\nQ 11.71875 9.328125 16.59375 8.109375 \r\nQ 21.484375 6.890625 26.8125 6.890625 \r\nQ 36.078125 6.890625 40.9375 10.546875 \r\nQ 45.796875 14.203125 45.796875 21.1875 \r\nQ 45.796875 27.640625 41.28125 31.265625 \r\nQ 36.765625 34.90625 28.71875 34.90625 \r\nL 20.21875 34.90625 \r\nL 20.21875 43.015625 \r\nL 29.109375 43.015625 \r\nQ 36.375 43.015625 40.234375 45.921875 \r\nQ 44.09375 48.828125 44.09375 54.296875 \r\nQ 44.09375 59.90625 40.109375 62.90625 \r\nQ 36.140625 65.921875 28.71875 65.921875 \r\nQ 24.65625 65.921875 20.015625 65.03125 \r\nQ 15.375 64.15625 9.8125 62.3125 \r\nL 9.8125 71.09375 \r\nQ 15.4375 72.65625 20.34375 73.4375 \r\nQ 25.25 74.21875 29.59375 74.21875 \r\nQ 40.828125 74.21875 47.359375 69.109375 \r\nQ 53.90625 64.015625 53.90625 55.328125 \r\nQ 53.90625 49.265625 50.4375 45.09375 \r\nQ 46.96875 40.921875 40.578125 39.3125 \r\nz\r\n\" id=\"DejaVuSans-51\"/>\r\n      </defs>\r\n      <g transform=\"translate(7.2 97.117425)scale(0.1 -0.1)\">\r\n       <use xlink:href=\"#DejaVuSans-51\"/>\r\n       <use x=\"63.623047\" xlink:href=\"#DejaVuSans-48\"/>\r\n       <use x=\"127.246094\" xlink:href=\"#DejaVuSans-48\"/>\r\n       <use x=\"190.869141\" xlink:href=\"#DejaVuSans-48\"/>\r\n       <use x=\"254.492188\" xlink:href=\"#DejaVuSans-48\"/>\r\n      </g>\r\n     </g>\r\n    </g>\r\n    <g id=\"ytick_5\">\r\n     <g id=\"line2d_10\">\r\n      <g>\r\n       <use style=\"stroke:#000000;stroke-width:0.8;\" x=\"46.0125\" xlink:href=\"#m4f388b9e4b\" y=\"49.544275\"/>\r\n      </g>\r\n     </g>\r\n     <g id=\"text_10\">\r\n      <!-- 40000 -->\r\n      <g transform=\"translate(7.2 53.343493)scale(0.1 -0.1)\">\r\n       <use xlink:href=\"#DejaVuSans-52\"/>\r\n       <use x=\"63.623047\" xlink:href=\"#DejaVuSans-48\"/>\r\n       <use x=\"127.246094\" xlink:href=\"#DejaVuSans-48\"/>\r\n       <use x=\"190.869141\" xlink:href=\"#DejaVuSans-48\"/>\r\n       <use x=\"254.492188\" xlink:href=\"#DejaVuSans-48\"/>\r\n      </g>\r\n     </g>\r\n    </g>\r\n   </g>\r\n   <g id=\"patch_13\">\r\n    <path d=\"M 46.0125 224.64 \r\nL 46.0125 7.2 \r\n\" style=\"fill:none;stroke:#000000;stroke-linecap:square;stroke-linejoin:miter;stroke-width:0.8;\"/>\r\n   </g>\r\n   <g id=\"patch_14\">\r\n    <path d=\"M 380.8125 224.64 \r\nL 380.8125 7.2 \r\n\" style=\"fill:none;stroke:#000000;stroke-linecap:square;stroke-linejoin:miter;stroke-width:0.8;\"/>\r\n   </g>\r\n   <g id=\"patch_15\">\r\n    <path d=\"M 46.0125 224.64 \r\nL 380.8125 224.64 \r\n\" style=\"fill:none;stroke:#000000;stroke-linecap:square;stroke-linejoin:miter;stroke-width:0.8;\"/>\r\n   </g>\r\n   <g id=\"patch_16\">\r\n    <path d=\"M 46.0125 7.2 \r\nL 380.8125 7.2 \r\n\" style=\"fill:none;stroke:#000000;stroke-linecap:square;stroke-linejoin:miter;stroke-width:0.8;\"/>\r\n   </g>\r\n  </g>\r\n </g>\r\n <defs>\r\n  <clipPath id=\"pe5d2fd95d1\">\r\n   <rect height=\"217.44\" width=\"334.8\" x=\"46.0125\" y=\"7.2\"/>\r\n  </clipPath>\r\n </defs>\r\n</svg>\r\n",
      "text/plain": "<Figure size 432x288 with 1 Axes>"
     },
     "metadata": {
      "needs_background": "light"
     },
     "output_type": "display_data"
    }
   ],
   "source": [
    "plt.hist(characters_count)\n",
    "plt.show()"
   ]
  },
  {
   "cell_type": "code",
   "execution_count": 7,
   "metadata": {},
   "outputs": [],
   "source": [
    "#Set a max length for text messages \n",
    "pd.set_option('max_colwidth', 310)"
   ]
  },
  {
   "cell_type": "code",
   "execution_count": 8,
   "metadata": {},
   "outputs": [],
   "source": [
    "messages = data['smsCorpus']['message']"
   ]
  },
  {
   "cell_type": "code",
   "execution_count": 9,
   "metadata": {},
   "outputs": [
    {
     "name": "stdout",
     "output_type": "stream",
     "text": "Total SMS count: 55835\n"
    }
   ],
   "source": [
    "print(f'Total SMS count: {len(messages)}')"
   ]
  },
  {
   "cell_type": "code",
   "execution_count": 10,
   "metadata": {},
   "outputs": [],
   "source": [
    "full_df = pd.DataFrame(messages)"
   ]
  },
  {
   "cell_type": "code",
   "execution_count": 11,
   "metadata": {},
   "outputs": [
    {
     "data": {
      "text/html": "<div>\n<style scoped>\n    .dataframe tbody tr th:only-of-type {\n        vertical-align: middle;\n    }\n\n    .dataframe tbody tr th {\n        vertical-align: top;\n    }\n\n    .dataframe thead th {\n        text-align: right;\n    }\n</style>\n<table border=\"1\" class=\"dataframe\">\n  <thead>\n    <tr style=\"text-align: right;\">\n      <th></th>\n      <th>text</th>\n    </tr>\n  </thead>\n  <tbody>\n    <tr>\n      <th>0</th>\n      <td>{'$': 'Bugis oso near wat...'}</td>\n    </tr>\n    <tr>\n      <th>1</th>\n      <td>{'$': 'Go until jurong point, crazy.. Available only in bugis n great world la e buffet... Cine there got amore wat...'}</td>\n    </tr>\n    <tr>\n      <th>2</th>\n      <td>{'$': 'I dunno until when... Lets go learn pilates...'}</td>\n    </tr>\n    <tr>\n      <th>3</th>\n      <td>{'$': 'Den only weekdays got special price... Haiz... Cant eat liao... Cut nails oso muz wait until i finish drivin wat, lunch still muz eat wat...'}</td>\n    </tr>\n    <tr>\n      <th>4</th>\n      <td>{'$': 'Meet after lunch la...'}</td>\n    </tr>\n  </tbody>\n</table>\n</div>",
      "text/plain": "                                                                                                                                                    text\n0                                                                                                                         {'$': 'Bugis oso near wat...'}\n1                               {'$': 'Go until jurong point, crazy.. Available only in bugis n great world la e buffet... Cine there got amore wat...'}\n2                                                                                                {'$': 'I dunno until when... Lets go learn pilates...'}\n3  {'$': 'Den only weekdays got special price... Haiz... Cant eat liao... Cut nails oso muz wait until i finish drivin wat, lunch still muz eat wat...'}\n4                                                                                                                        {'$': 'Meet after lunch la...'}"
     },
     "execution_count": 11,
     "metadata": {},
     "output_type": "execute_result"
    }
   ],
   "source": [
    "sms_df = full_df[['text']]\n",
    "sms_df.head()"
   ]
  },
  {
   "cell_type": "code",
   "execution_count": 12,
   "metadata": {},
   "outputs": [],
   "source": [
    "def clean_sms(sms_text):\n",
    "    sms = str(sms_text).lower()\n",
    "    return sms[7:-2]"
   ]
  },
  {
   "cell_type": "code",
   "execution_count": 13,
   "metadata": {},
   "outputs": [],
   "source": [
    "sms_df['clean_text'] = sms_df['text'].apply(clean_sms)"
   ]
  },
  {
   "cell_type": "code",
   "execution_count": 14,
   "metadata": {},
   "outputs": [
    {
     "data": {
      "text/html": "<div>\n<style scoped>\n    .dataframe tbody tr th:only-of-type {\n        vertical-align: middle;\n    }\n\n    .dataframe tbody tr th {\n        vertical-align: top;\n    }\n\n    .dataframe thead th {\n        text-align: right;\n    }\n</style>\n<table border=\"1\" class=\"dataframe\">\n  <thead>\n    <tr style=\"text-align: right;\">\n      <th></th>\n      <th>text</th>\n      <th>clean_text</th>\n    </tr>\n  </thead>\n  <tbody>\n    <tr>\n      <th>0</th>\n      <td>{'$': 'Bugis oso near wat...'}</td>\n      <td>bugis oso near wat...</td>\n    </tr>\n    <tr>\n      <th>1</th>\n      <td>{'$': 'Go until jurong point, crazy.. Available only in bugis n great world la e buffet... Cine there got amore wat...'}</td>\n      <td>go until jurong point, crazy.. available only in bugis n great world la e buffet... cine there got amore wat...</td>\n    </tr>\n    <tr>\n      <th>2</th>\n      <td>{'$': 'I dunno until when... Lets go learn pilates...'}</td>\n      <td>i dunno until when... lets go learn pilates...</td>\n    </tr>\n    <tr>\n      <th>3</th>\n      <td>{'$': 'Den only weekdays got special price... Haiz... Cant eat liao... Cut nails oso muz wait until i finish drivin wat, lunch still muz eat wat...'}</td>\n      <td>den only weekdays got special price... haiz... cant eat liao... cut nails oso muz wait until i finish drivin wat, lunch still muz eat wat...</td>\n    </tr>\n    <tr>\n      <th>4</th>\n      <td>{'$': 'Meet after lunch la...'}</td>\n      <td>meet after lunch la...</td>\n    </tr>\n    <tr>\n      <th>5</th>\n      <td>{'$': 'm walking in citylink now ü faster come down... Me very hungry...'}</td>\n      <td>m walking in citylink now ü faster come down... me very hungry...</td>\n    </tr>\n    <tr>\n      <th>6</th>\n      <td>{'$': '5 nights...We nt staying at port step liao...Too ex'}</td>\n      <td>5 nights...we nt staying at port step liao...too ex</td>\n    </tr>\n    <tr>\n      <th>7</th>\n      <td>{'$': 'Hey pple...$700 or $900 for 5 nights...Excellent location wif breakfast hamper!!!'}</td>\n      <td>hey pple...$700 or $900 for 5 nights...excellent location wif breakfast hamper!!!</td>\n    </tr>\n    <tr>\n      <th>8</th>\n      <td>{'$': 'Yun ah.the ubi one say if ü wan call by tomorrow.call 67441233 look for irene.ere only got bus8,22,65,61,66,382. Ubi cres,ubi tech park.6ph for 1st 5wkg days.èn'}</td>\n      <td>yun ah.the ubi one say if ü wan call by tomorrow.call 67441233 look for irene.ere only got bus8,22,65,61,66,382. ubi cres,ubi tech park.6ph for 1st 5wkg days.èn</td>\n    </tr>\n    <tr>\n      <th>9</th>\n      <td>{'$': 'Hey tmr maybe can meet you at yck'}</td>\n      <td>hey tmr maybe can meet you at yck</td>\n    </tr>\n    <tr>\n      <th>10</th>\n      <td>{'$': 'Oh...i asked for fun. Haha...take care. ü'}</td>\n      <td>oh...i asked for fun. haha...take care. ü</td>\n    </tr>\n    <tr>\n      <th>11</th>\n      <td>{'$': 'We are supposed to meet to discuss abt our trip... Thought xuhui told you? In the afternoon. Thought we can go for lesson after that'}</td>\n      <td>we are supposed to meet to discuss abt our trip... thought xuhui told you? in the afternoon. thought we can go for lesson after that</td>\n    </tr>\n    <tr>\n      <th>12</th>\n      <td>{'$': 't finish my film yet...'}</td>\n      <td>t finish my film yet...</td>\n    </tr>\n    <tr>\n      <th>13</th>\n      <td>{'$': 'm having dinner with my cousin...'}</td>\n      <td>m having dinner with my cousin...</td>\n    </tr>\n    <tr>\n      <th>14</th>\n      <td>{'$': 'Oh... Kay... On sat right?'}</td>\n      <td>oh... kay... on sat right?</td>\n    </tr>\n    <tr>\n      <th>15</th>\n      <td>{'$': 'I need... Coz i never go before'}</td>\n      <td>i need... coz i never go before</td>\n    </tr>\n    <tr>\n      <th>16</th>\n      <td>{'$': 's a basic yoga course... at bugis... We can go for that... Pilates intro next sat.... Tell me what time you r free'}</td>\n      <td>s a basic yoga course... at bugis... we can go for that... pilates intro next sat.... tell me what time you r free</td>\n    </tr>\n    <tr>\n      <th>17</th>\n      <td>{'$': 'I am going to sao mu today. Will be done only at 12'}</td>\n      <td>i am going to sao mu today. will be done only at 12</td>\n    </tr>\n    <tr>\n      <th>18</th>\n      <td>{'$': 'Hey gals...U all wanna meet 4 dinner at nìte?'}</td>\n      <td>hey gals...u all wanna meet 4 dinner at nìte?</td>\n    </tr>\n    <tr>\n      <th>19</th>\n      <td>{'$': 'Jos ask if u wana meet up?'}</td>\n      <td>jos ask if u wana meet up?</td>\n    </tr>\n    <tr>\n      <th>20</th>\n      <td>{'$': 'Haiyoh... Maybe your hamster was jealous of million'}</td>\n      <td>haiyoh... maybe your hamster was jealous of million</td>\n    </tr>\n    <tr>\n      <th>21</th>\n      <td>{'$': 'is your hamster dead? Hey so tmr i meet you at 1pm orchard mrt?'}</td>\n      <td>is your hamster dead? hey so tmr i meet you at 1pm orchard mrt?</td>\n    </tr>\n    <tr>\n      <th>22</th>\n      <td>{'$': 've booked the pilates and yoga lesson already... Haha'}</td>\n      <td>ve booked the pilates and yoga lesson already... haha</td>\n    </tr>\n    <tr>\n      <th>23</th>\n      <td>{'$': 'Yup... I havent been there before... You want to go for the yoga? I can call up to book'}</td>\n      <td>yup... i havent been there before... you want to go for the yoga? i can call up to book</td>\n    </tr>\n    <tr>\n      <th>24</th>\n      <td>{'$': 'K... Must book a not huh? so going for yoga basic on sunday?'}</td>\n      <td>k... must book a not huh? so going for yoga basic on sunday?</td>\n    </tr>\n    <tr>\n      <th>25</th>\n      <td>{'$': 'Hey so this sat are we going for the intro pilates only? Or the kickboxing too?'}</td>\n      <td>hey so this sat are we going for the intro pilates only? or the kickboxing too?</td>\n    </tr>\n    <tr>\n      <th>26</th>\n      <td>{'$': 'Sat right? Okay thanks...'}</td>\n      <td>sat right? okay thanks...</td>\n    </tr>\n    <tr>\n      <th>27</th>\n      <td>{'$': 'Yup... From what i remb... I think should be can book...'}</td>\n      <td>yup... from what i remb... i think should be can book...</td>\n    </tr>\n    <tr>\n      <th>28</th>\n      <td>{'$': 'm going to get specs. My membership is PX3748'}</td>\n      <td>m going to get specs. my membership is px3748</td>\n    </tr>\n    <tr>\n      <th>29</th>\n      <td>{'$': 'We can go 4 e normal pilates after our intro...'}</td>\n      <td>we can go 4 e normal pilates after our intro...</td>\n    </tr>\n    <tr>\n      <th>30</th>\n      <td>{'$': 'Sun ah... Thk mayb can if dun have anythin on... Thk have to book e lesson... E pilates is at orchard mrt u noe hor...'}</td>\n      <td>sun ah... thk mayb can if dun have anythin on... thk have to book e lesson... e pilates is at orchard mrt u noe hor...</td>\n    </tr>\n    <tr>\n      <th>31</th>\n      <td>{'$': 'Thk shld b can... Ya, i wana go 4 lessons... Haha, can go for one whole stretch...'}</td>\n      <td>thk shld b can... ya, i wana go 4 lessons... haha, can go for one whole stretch...</td>\n    </tr>\n    <tr>\n      <th>32</th>\n      <td>{'$': 'Sounds gd... Haha... Can... Wah, u yan jiu so fast liao...'}</td>\n      <td>sounds gd... haha... can... wah, u yan jiu so fast liao...</td>\n    </tr>\n    <tr>\n      <th>33</th>\n      <td>{'$': 'Wah... Okie okie... Muz make use of e unlimited... Haha...'}</td>\n      <td>wah... okie okie... muz make use of e unlimited... haha...</td>\n    </tr>\n    <tr>\n      <th>34</th>\n      <td>{'$': 'll go yan jiu den msg u...'}</td>\n      <td>ll go yan jiu den msg u...</td>\n    </tr>\n    <tr>\n      <th>35</th>\n      <td>{'$': 'K.. I yan jiu liao... Sat we can go 4 bugis vill one frm 10 to 3 den hop to parco 4 nb. Sun can go cine frm 1030 to 2, den hop to orc mrt 4 hip hop at 4...'}</td>\n      <td>k.. i yan jiu liao... sat we can go 4 bugis vill one frm 10 to 3 den hop to parco 4 nb. sun can go cine frm 1030 to 2, den hop to orc mrt 4 hip hop at 4...</td>\n    </tr>\n    <tr>\n      <th>36</th>\n      <td>{'$': 'll go yan jiu too... We can skip ard oso, go cine den go mrt one, blah blah blah...'}</td>\n      <td>ll go yan jiu too... we can skip ard oso, go cine den go mrt one, blah blah blah...</td>\n    </tr>\n    <tr>\n      <th>37</th>\n      <td>{'$': 'Nope... Juz off from work...'}</td>\n      <td>nope... juz off from work...</td>\n    </tr>\n    <tr>\n      <th>38</th>\n      <td>{'$': 'Oh oh... Wasted... Den muz chiong on sat n sun liao...'}</td>\n      <td>oh oh... wasted... den muz chiong on sat n sun liao...</td>\n    </tr>\n    <tr>\n      <th>39</th>\n      <td>{'$': 'Haha... Sounds crazy, dunno can tahan anot...'}</td>\n      <td>haha... sounds crazy, dunno can tahan anot...</td>\n    </tr>\n    <tr>\n      <th>40</th>\n      <td>{'$': 'Hmmm.. Thk sure got time to hop ard... Ya, can go 4 free abt... Muz call u to discuss liao...'}</td>\n      <td>hmmm.. thk sure got time to hop ard... ya, can go 4 free abt... muz call u to discuss liao...</td>\n    </tr>\n    <tr>\n      <th>41</th>\n      <td>{'$': 'Oh... I was thkin of goin yogasana at 10 den no nd to go at 3 den can rush to parco 4 nb... Okie lor, u call me when ready...'}</td>\n      <td>oh... i was thkin of goin yogasana at 10 den no nd to go at 3 den can rush to parco 4 nb... okie lor, u call me when ready...</td>\n    </tr>\n    <tr>\n      <th>42</th>\n      <td>{'$': 'After my work ah... Den 6 plus lor... U workin oso rite... Den go orchard lor, no other place to go liao...'}</td>\n      <td>after my work ah... den 6 plus lor... u workin oso rite... den go orchard lor, no other place to go liao...</td>\n    </tr>\n    <tr>\n      <th>43</th>\n      <td>{'$': 'Aiyo... U always c our ex one... I dunno abt mei, she haven reply... First time u reply so fast... Y so lucky not workin huh, got bao by ur sugardad ah...gee..'}</td>\n      <td>aiyo... u always c our ex one... i dunno abt mei, she haven reply... first time u reply so fast... y so lucky not workin huh, got bao by ur sugardad ah...gee..</td>\n    </tr>\n    <tr>\n      <th>44</th>\n      <td>{'$': 's ex wat... No ah, waitin 4 u to treat, somebody shld b rich liao...So gd, den u dun have to work frm tmr onwards...'}</td>\n      <td>s ex wat... no ah, waitin 4 u to treat, somebody shld b rich liao...so gd, den u dun have to work frm tmr onwards...</td>\n    </tr>\n    <tr>\n      <th>45</th>\n      <td>{'$': 'Oh oh... Den muz change plan liao... Go back have to yan jiu again...'}</td>\n      <td>oh oh... den muz change plan liao... go back have to yan jiu again...</td>\n    </tr>\n    <tr>\n      <th>46</th>\n      <td>{'$': 's nt much lesson to go if we attend kb on sat...'}</td>\n      <td>s nt much lesson to go if we attend kb on sat...</td>\n    </tr>\n    <tr>\n      <th>47</th>\n      <td>{'$': 'Den wat will e schedule b lk on sun?'}</td>\n      <td>den wat will e schedule b lk on sun?</td>\n    </tr>\n    <tr>\n      <th>48</th>\n      <td>{'$': 'Eh den sat u book e kb liao huh...'}</td>\n      <td>eh den sat u book e kb liao huh...</td>\n    </tr>\n    <tr>\n      <th>49</th>\n      <td>{'$': 'Yup... Hey then one day on fri we can ask miwa and jiayin take leave go karaoke'}</td>\n      <td>yup... hey then one day on fri we can ask miwa and jiayin take leave go karaoke</td>\n    </tr>\n  </tbody>\n</table>\n</div>",
      "text/plain": "                                                                                                                                                                         text  \\\n0                                                                                                                                              {'$': 'Bugis oso near wat...'}   \n1                                                    {'$': 'Go until jurong point, crazy.. Available only in bugis n great world la e buffet... Cine there got amore wat...'}   \n2                                                                                                                     {'$': 'I dunno until when... Lets go learn pilates...'}   \n3                       {'$': 'Den only weekdays got special price... Haiz... Cant eat liao... Cut nails oso muz wait until i finish drivin wat, lunch still muz eat wat...'}   \n4                                                                                                                                             {'$': 'Meet after lunch la...'}   \n5                                                                                                  {'$': 'm walking in citylink now ü faster come down... Me very hungry...'}   \n6                                                                                                                {'$': '5 nights...We nt staying at port step liao...Too ex'}   \n7                                                                                  {'$': 'Hey pple...$700 or $900 for 5 nights...Excellent location wif breakfast hamper!!!'}   \n8   {'$': 'Yun ah.the ubi one say if ü wan call by tomorrow.call 67441233 look for irene.ere only got bus8,22,65,61,66,382. Ubi cres,ubi tech park.6ph for 1st 5wkg days.èn'}   \n9                                                                                                                                  {'$': 'Hey tmr maybe can meet you at yck'}   \n10                                                                                                                         {'$': 'Oh...i asked for fun. Haha...take care. ü'}   \n11                              {'$': 'We are supposed to meet to discuss abt our trip... Thought xuhui told you? In the afternoon. Thought we can go for lesson after that'}   \n12                                                                                                                                           {'$': 't finish my film yet...'}   \n13                                                                                                                                 {'$': 'm having dinner with my cousin...'}   \n14                                                                                                                                        {'$': 'Oh... Kay... On sat right?'}   \n15                                                                                                                                   {'$': 'I need... Coz i never go before'}   \n16                                                {'$': 's a basic yoga course... at bugis... We can go for that... Pilates intro next sat.... Tell me what time you r free'}   \n17                                                                                                               {'$': 'I am going to sao mu today. Will be done only at 12'}   \n18                                                                                                                     {'$': 'Hey gals...U all wanna meet 4 dinner at nìte?'}   \n19                                                                                                                                        {'$': 'Jos ask if u wana meet up?'}   \n20                                                                                                               {'$': 'Haiyoh... Maybe your hamster was jealous of million'}   \n21                                                                                                   {'$': 'is your hamster dead? Hey so tmr i meet you at 1pm orchard mrt?'}   \n22                                                                                                             {'$': 've booked the pilates and yoga lesson already... Haha'}   \n23                                                                           {'$': 'Yup... I havent been there before... You want to go for the yoga? I can call up to book'}   \n24                                                                                                      {'$': 'K... Must book a not huh? so going for yoga basic on sunday?'}   \n25                                                                                   {'$': 'Hey so this sat are we going for the intro pilates only? Or the kickboxing too?'}   \n26                                                                                                                                         {'$': 'Sat right? Okay thanks...'}   \n27                                                                                                          {'$': 'Yup... From what i remb... I think should be can book...'}   \n28                                                                                                                     {'$': 'm going to get specs. My membership is PX3748'}   \n29                                                                                                                   {'$': 'We can go 4 e normal pilates after our intro...'}   \n30                                            {'$': 'Sun ah... Thk mayb can if dun have anythin on... Thk have to book e lesson... E pilates is at orchard mrt u noe hor...'}   \n31                                                                                {'$': 'Thk shld b can... Ya, i wana go 4 lessons... Haha, can go for one whole stretch...'}   \n32                                                                                                        {'$': 'Sounds gd... Haha... Can... Wah, u yan jiu so fast liao...'}   \n33                                                                                                        {'$': 'Wah... Okie okie... Muz make use of e unlimited... Haha...'}   \n34                                                                                                                                        {'$': 'll go yan jiu den msg u...'}   \n35       {'$': 'K.. I yan jiu liao... Sat we can go 4 bugis vill one frm 10 to 3 den hop to parco 4 nb. Sun can go cine frm 1030 to 2, den hop to orc mrt 4 hip hop at 4...'}   \n36                                                                               {'$': 'll go yan jiu too... We can skip ard oso, go cine den go mrt one, blah blah blah...'}   \n37                                                                                                                                      {'$': 'Nope... Juz off from work...'}   \n38                                                                                                            {'$': 'Oh oh... Wasted... Den muz chiong on sat n sun liao...'}   \n39                                                                                                                     {'$': 'Haha... Sounds crazy, dunno can tahan anot...'}   \n40                                                                     {'$': 'Hmmm.. Thk sure got time to hop ard... Ya, can go 4 free abt... Muz call u to discuss liao...'}   \n41                                     {'$': 'Oh... I was thkin of goin yogasana at 10 den no nd to go at 3 den can rush to parco 4 nb... Okie lor, u call me when ready...'}   \n42                                                       {'$': 'After my work ah... Den 6 plus lor... U workin oso rite... Den go orchard lor, no other place to go liao...'}   \n43   {'$': 'Aiyo... U always c our ex one... I dunno abt mei, she haven reply... First time u reply so fast... Y so lucky not workin huh, got bao by ur sugardad ah...gee..'}   \n44                                              {'$': 's ex wat... No ah, waitin 4 u to treat, somebody shld b rich liao...So gd, den u dun have to work frm tmr onwards...'}   \n45                                                                                             {'$': 'Oh oh... Den muz change plan liao... Go back have to yan jiu again...'}   \n46                                                                                                                  {'$': 's nt much lesson to go if we attend kb on sat...'}   \n47                                                                                                                              {'$': 'Den wat will e schedule b lk on sun?'}   \n48                                                                                                                                {'$': 'Eh den sat u book e kb liao huh...'}   \n49                                                                                   {'$': 'Yup... Hey then one day on fri we can ask miwa and jiayin take leave go karaoke'}   \n\n                                                                                                                                                          clean_text  \n0                                                                                                                                              bugis oso near wat...  \n1                                                    go until jurong point, crazy.. available only in bugis n great world la e buffet... cine there got amore wat...  \n2                                                                                                                     i dunno until when... lets go learn pilates...  \n3                       den only weekdays got special price... haiz... cant eat liao... cut nails oso muz wait until i finish drivin wat, lunch still muz eat wat...  \n4                                                                                                                                             meet after lunch la...  \n5                                                                                                  m walking in citylink now ü faster come down... me very hungry...  \n6                                                                                                                5 nights...we nt staying at port step liao...too ex  \n7                                                                                  hey pple...$700 or $900 for 5 nights...excellent location wif breakfast hamper!!!  \n8   yun ah.the ubi one say if ü wan call by tomorrow.call 67441233 look for irene.ere only got bus8,22,65,61,66,382. ubi cres,ubi tech park.6ph for 1st 5wkg days.èn  \n9                                                                                                                                  hey tmr maybe can meet you at yck  \n10                                                                                                                         oh...i asked for fun. haha...take care. ü  \n11                              we are supposed to meet to discuss abt our trip... thought xuhui told you? in the afternoon. thought we can go for lesson after that  \n12                                                                                                                                           t finish my film yet...  \n13                                                                                                                                 m having dinner with my cousin...  \n14                                                                                                                                        oh... kay... on sat right?  \n15                                                                                                                                   i need... coz i never go before  \n16                                                s a basic yoga course... at bugis... we can go for that... pilates intro next sat.... tell me what time you r free  \n17                                                                                                               i am going to sao mu today. will be done only at 12  \n18                                                                                                                     hey gals...u all wanna meet 4 dinner at nìte?  \n19                                                                                                                                        jos ask if u wana meet up?  \n20                                                                                                               haiyoh... maybe your hamster was jealous of million  \n21                                                                                                   is your hamster dead? hey so tmr i meet you at 1pm orchard mrt?  \n22                                                                                                             ve booked the pilates and yoga lesson already... haha  \n23                                                                           yup... i havent been there before... you want to go for the yoga? i can call up to book  \n24                                                                                                      k... must book a not huh? so going for yoga basic on sunday?  \n25                                                                                   hey so this sat are we going for the intro pilates only? or the kickboxing too?  \n26                                                                                                                                         sat right? okay thanks...  \n27                                                                                                          yup... from what i remb... i think should be can book...  \n28                                                                                                                     m going to get specs. my membership is px3748  \n29                                                                                                                   we can go 4 e normal pilates after our intro...  \n30                                            sun ah... thk mayb can if dun have anythin on... thk have to book e lesson... e pilates is at orchard mrt u noe hor...  \n31                                                                                thk shld b can... ya, i wana go 4 lessons... haha, can go for one whole stretch...  \n32                                                                                                        sounds gd... haha... can... wah, u yan jiu so fast liao...  \n33                                                                                                        wah... okie okie... muz make use of e unlimited... haha...  \n34                                                                                                                                        ll go yan jiu den msg u...  \n35       k.. i yan jiu liao... sat we can go 4 bugis vill one frm 10 to 3 den hop to parco 4 nb. sun can go cine frm 1030 to 2, den hop to orc mrt 4 hip hop at 4...  \n36                                                                               ll go yan jiu too... we can skip ard oso, go cine den go mrt one, blah blah blah...  \n37                                                                                                                                      nope... juz off from work...  \n38                                                                                                            oh oh... wasted... den muz chiong on sat n sun liao...  \n39                                                                                                                     haha... sounds crazy, dunno can tahan anot...  \n40                                                                     hmmm.. thk sure got time to hop ard... ya, can go 4 free abt... muz call u to discuss liao...  \n41                                     oh... i was thkin of goin yogasana at 10 den no nd to go at 3 den can rush to parco 4 nb... okie lor, u call me when ready...  \n42                                                       after my work ah... den 6 plus lor... u workin oso rite... den go orchard lor, no other place to go liao...  \n43   aiyo... u always c our ex one... i dunno abt mei, she haven reply... first time u reply so fast... y so lucky not workin huh, got bao by ur sugardad ah...gee..  \n44                                              s ex wat... no ah, waitin 4 u to treat, somebody shld b rich liao...so gd, den u dun have to work frm tmr onwards...  \n45                                                                                             oh oh... den muz change plan liao... go back have to yan jiu again...  \n46                                                                                                                  s nt much lesson to go if we attend kb on sat...  \n47                                                                                                                              den wat will e schedule b lk on sun?  \n48                                                                                                                                eh den sat u book e kb liao huh...  \n49                                                                                   yup... hey then one day on fri we can ask miwa and jiayin take leave go karaoke  "
     },
     "execution_count": 14,
     "metadata": {},
     "output_type": "execute_result"
    }
   ],
   "source": [
    "sms_df.head(50)"
   ]
  },
  {
   "cell_type": "code",
   "execution_count": 15,
   "metadata": {},
   "outputs": [],
   "source": [
    "sample_df = sms_df['clean_text'][0:1000]"
   ]
  },
  {
   "cell_type": "code",
   "execution_count": 16,
   "metadata": {},
   "outputs": [
    {
     "data": {
      "text/plain": "0                                                                                                                           bugis oso near wat...\n1                                 go until jurong point, crazy.. available only in bugis n great world la e buffet... cine there got amore wat...\n2                                                                                                  i dunno until when... lets go learn pilates...\n3    den only weekdays got special price... haiz... cant eat liao... cut nails oso muz wait until i finish drivin wat, lunch still muz eat wat...\n4                                                                                                                          meet after lunch la...\nName: clean_text, dtype: object"
     },
     "execution_count": 16,
     "metadata": {},
     "output_type": "execute_result"
    }
   ],
   "source": [
    "sample_df.head()"
   ]
  },
  {
   "cell_type": "code",
   "execution_count": 17,
   "metadata": {},
   "outputs": [],
   "source": [
    "with open('1000sms.txt', mode='w', encoding='utf-8') as f:\n",
    "    f.write(sample_df.to_string(header=False, index=False))"
   ]
  },
  {
   "cell_type": "code",
   "execution_count": 18,
   "metadata": {},
   "outputs": [],
   "source": [
    "train_singlish_df = full_df.sample(n=20000, random_state=42)\n",
    "train_singlish_df['clean_text'] = train_singlish_df['text'].apply(clean_sms)\n",
    "train_singlish_df = train_singlish_df['clean_text']\n",
    "\n",
    "test_singlish_df = sms_df.drop(train_singlish_df.index)\n",
    "test_singlish_df['clean_text'] = test_singlish_df['text'].apply(clean_sms) \n",
    "test_singlish_df = test_singlish_df['clean_text']"
   ]
  },
  {
   "cell_type": "code",
   "execution_count": 19,
   "metadata": {},
   "outputs": [
    {
     "data": {
      "text/plain": "1126                                                                                                                                                 enjoy ur holiday..\n42937                                                                                                                                                      cosplay fail\n34044                                                                                                                                    woo wah got new bags again eh.\n46225    haha i was bored! hahaha fell asleep for awhile! hahaha hmm:p hahaokay! we do work then (: btw your personal statement! haha omg socool! what you all playing!\n31849                                                                                                            i coming down sch...i on  <#>  at nus high sch liao...\nName: clean_text, dtype: object"
     },
     "execution_count": 19,
     "metadata": {},
     "output_type": "execute_result"
    }
   ],
   "source": [
    "train_singlish_df.head()"
   ]
  },
  {
   "cell_type": "code",
   "execution_count": 20,
   "metadata": {},
   "outputs": [
    {
     "data": {
      "text/plain": "2                                                                                                                      i dunno until when... lets go learn pilates...\n3                        den only weekdays got special price... haiz... cant eat liao... cut nails oso muz wait until i finish drivin wat, lunch still muz eat wat...\n5                                                                                                   m walking in citylink now ü faster come down... me very hungry...\n8    yun ah.the ubi one say if ü wan call by tomorrow.call 67441233 look for irene.ere only got bus8,22,65,61,66,382. ubi cres,ubi tech park.6ph for 1st 5wkg days.èn\n9                                                                                                                                   hey tmr maybe can meet you at yck\nName: clean_text, dtype: object"
     },
     "execution_count": 20,
     "metadata": {},
     "output_type": "execute_result"
    }
   ],
   "source": [
    "test_singlish_df.head()"
   ]
  },
  {
   "cell_type": "code",
   "execution_count": 21,
   "metadata": {},
   "outputs": [
    {
     "name": "stdout",
     "output_type": "stream",
     "text": "Size of train Singlish dataset = 20000\nSize of test Singlish dataset = 35835\n"
    }
   ],
   "source": [
    "print(f'Size of train Singlish dataset = {len(train_singlish_df)}')\n",
    "print(f'Size of test Singlish dataset = {len(test_singlish_df)}')"
   ]
  },
  {
   "cell_type": "code",
   "execution_count": 22,
   "metadata": {},
   "outputs": [],
   "source": [
    "#Create the Singlish train and test datasets as files\n",
    "with open('train_singlish.txt', mode='w', encoding='utf-8') as f:\n",
    "    f.write(train_singlish_df.to_string(header=False, index=False))\n",
    "    \n",
    "with open('test_singlish.txt', mode='w', encoding='utf-8') as f:\n",
    "    f.write(test_singlish_df.to_string(header=False, index=False))"
   ]
  },
  {
   "cell_type": "code",
   "execution_count": 23,
   "metadata": {},
   "outputs": [],
   "source": [
    "from nltk.util import pad_sequence\n",
    "from nltk.util import bigrams\n",
    "from nltk.util import ngrams\n",
    "from nltk.util import everygrams\n",
    "from nltk.lm.preprocessing import pad_both_ends\n",
    "from nltk.lm.preprocessing import flatten"
   ]
  },
  {
   "cell_type": "code",
   "execution_count": 24,
   "metadata": {},
   "outputs": [],
   "source": [
    "try: # Use the default NLTK tokenizer.\n",
    "    from nltk import word_tokenize, sent_tokenize \n",
    "    # Testing whether it works. \n",
    "    # Sometimes it doesn't work on some machines because of setup issues.\n",
    "    word_tokenize(sent_tokenize(\"This is a foobar sentence. Yes it is.\")[0])\n",
    "except: # Use a naive sentence tokenizer and toktok.\n",
    "    import re\n",
    "    from nltk.tokenize import ToktokTokenizer\n",
    "    # See https://stackoverflow.com/a/25736515/610569\n",
    "    sent_tokenize = lambda x: re.split(r'(?<=[^A-Z].[.?]) +(?=[A-Z])', x)\n",
    "    # Use the toktok tokenizer that requires no dependencies.\n",
    "    toktok = ToktokTokenizer()\n",
    "    word_tokenize = word_tokenize = toktok.tokenize"
   ]
  },
  {
   "cell_type": "code",
   "execution_count": 25,
   "metadata": {},
   "outputs": [],
   "source": [
    "import os\n",
    "import requests\n",
    "import io #codecs\n",
    "\n",
    "with io.open('train_singlish.txt', encoding='utf-8') as fin:\n",
    "    text = fin.read()"
   ]
  },
  {
   "cell_type": "code",
   "execution_count": 26,
   "metadata": {},
   "outputs": [],
   "source": [
    "# Tokenize the text.\n",
    "tokenized_text = [list(map(str.lower, word_tokenize(sent))) \n",
    "                  for sent in sent_tokenize(text)]"
   ]
  },
  {
   "cell_type": "code",
   "execution_count": 27,
   "metadata": {},
   "outputs": [
    {
     "data": {
      "text/plain": "['enjoy',\n 'ur',\n 'holiday..',\n 'cosplay',\n 'fail',\n 'woo',\n 'wah',\n 'got',\n 'new',\n 'bags',\n 'again',\n 'eh',\n '.']"
     },
     "execution_count": 27,
     "metadata": {},
     "output_type": "execute_result"
    }
   ],
   "source": [
    "tokenized_text[0]"
   ]
  },
  {
   "cell_type": "code",
   "execution_count": 28,
   "metadata": {},
   "outputs": [
    {
     "name": "stdout",
     "output_type": "stream",
     "text": "enjoy ur holiday..\n                                                                                                                                                                                                                                                                                                          cosplay fail\n                                                                                                                                                                                                                                                                                        woo wah got new bags again eh.\n                                                                   \n"
    }
   ],
   "source": [
    "print(text[:1000])"
   ]
  },
  {
   "cell_type": "code",
   "execution_count": 29,
   "metadata": {},
   "outputs": [],
   "source": [
    "from nltk.lm.preprocessing import padded_everygram_pipeline\n",
    "\n",
    "# Preprocess the tokenized text for 3-grams language modelling\n",
    "n = 3\n",
    "train_data, padded_sents = padded_everygram_pipeline(n, tokenized_text)"
   ]
  },
  {
   "cell_type": "code",
   "execution_count": 30,
   "metadata": {},
   "outputs": [],
   "source": [
    "from nltk.lm import MLE\n",
    "model = MLE(n) # Lets train a 3-grams model, previously we set n=3"
   ]
  },
  {
   "cell_type": "code",
   "execution_count": 31,
   "metadata": {},
   "outputs": [
    {
     "data": {
      "text/plain": "0"
     },
     "execution_count": 31,
     "metadata": {},
     "output_type": "execute_result"
    }
   ],
   "source": [
    "len(model.vocab)"
   ]
  },
  {
   "cell_type": "code",
   "execution_count": 32,
   "metadata": {},
   "outputs": [
    {
     "name": "stdout",
     "output_type": "stream",
     "text": "<Vocabulary with cutoff=1 unk_label='<UNK>' and 19811 items>\n"
    }
   ],
   "source": [
    "model.fit(train_data, padded_sents)\n",
    "print(model.vocab)"
   ]
  },
  {
   "cell_type": "code",
   "execution_count": 33,
   "metadata": {},
   "outputs": [
    {
     "data": {
      "text/plain": "19811"
     },
     "execution_count": 33,
     "metadata": {},
     "output_type": "execute_result"
    }
   ],
   "source": [
    "len(model.vocab)"
   ]
  },
  {
   "cell_type": "code",
   "execution_count": 34,
   "metadata": {},
   "outputs": [
    {
     "name": "stdout",
     "output_type": "stream",
     "text": "('enjoy', 'ur', 'holiday..', 'cosplay', 'fail', 'woo', 'wah', 'got', 'new', 'bags', 'again', 'eh', '.')\n"
    }
   ],
   "source": [
    "print(model.vocab.lookup(tokenized_text[0]))"
   ]
  },
  {
   "cell_type": "code",
   "execution_count": 35,
   "metadata": {},
   "outputs": [
    {
     "name": "stdout",
     "output_type": "stream",
     "text": "<NgramCounter with 3 ngram orders and 947313 ngrams>\n"
    }
   ],
   "source": [
    "print(model.counts)"
   ]
  },
  {
   "cell_type": "code",
   "execution_count": 36,
   "metadata": {},
   "outputs": [
    {
     "data": {
      "text/plain": "76"
     },
     "execution_count": 36,
     "metadata": {},
     "output_type": "execute_result"
    }
   ],
   "source": [
    "model.counts['meh'] # i.e. Count('meh')"
   ]
  },
  {
   "cell_type": "code",
   "execution_count": 37,
   "metadata": {},
   "outputs": [
    {
     "data": {
      "text/plain": "0.00022506848300881026"
     },
     "execution_count": 37,
     "metadata": {},
     "output_type": "execute_result"
    }
   ],
   "source": [
    "model.score('meh') # P('meh')"
   ]
  },
  {
   "cell_type": "code",
   "execution_count": 38,
   "metadata": {},
   "outputs": [
    {
     "name": "stdout",
     "output_type": "stream",
     "text": "['<s>', '<s>', 'lol', 'it', 'only', 'wrote', 'ovaltine', '.', '</s>', '</s>', '</s>', '</s>', '</s>', '</s>', '</s>', '</s>', '</s>', '</s>', '</s>', '</s>']\n"
    }
   ],
   "source": [
    "print(model.generate(20, random_seed=321))"
   ]
  },
  {
   "cell_type": "code",
   "execution_count": 39,
   "metadata": {},
   "outputs": [],
   "source": [
    "from nltk.tokenize.treebank import TreebankWordDetokenizer\n",
    "\n",
    "detokenize = TreebankWordDetokenizer().detokenize\n",
    "\n",
    "def generate_sent(model, num_words, random_seed=42):\n",
    "    \"\"\"\n",
    "    :param model: An ngram language model from `nltk.lm.model`.\n",
    "    :param num_words: Max no. of words to generate.\n",
    "    :param random_seed: Seed value for random.\n",
    "    \"\"\"\n",
    "    content = []\n",
    "    for token in model.generate(num_words, random_seed=random_seed):\n",
    "        if token == '<s>':\n",
    "            continue\n",
    "        if token == '</s>':\n",
    "            break\n",
    "        content.append(token)\n",
    "    return detokenize(content)"
   ]
  },
  {
   "cell_type": "code",
   "execution_count": 40,
   "metadata": {},
   "outputs": [
    {
     "name": "stdout",
     "output_type": "stream",
     "text": "lol it only wrote ovaltine.\nthe sofa...........wow, cookies ah.\nmy phone all i know._.\nhas problms in chargng.befo girls buk vans there baba has 2 set something then i upload lor.\nforgive & forget.\n2moro den understand le lols not training?\nten special people & u c n u can be contacted at <#>: (unna dun u\nim single n avail? hehe...juz came bk yest...on the day again?\nshe did a ride all right and i get a chance to go with my poly friends eh.\nwe juz watched italian job.\nskype: d wa! that.s later than <#> note!\n\nfrom hont.\nu late?\n\n!\n\n: -) tgit boht resrch aur calculatns ki hain mai ne make it next time but shld be fine\n\n?\nhaha its alright!\n< #> eat already t be there, so lame, hostel should have told zx.\n\nwat u want to meet hiim?\nokay! have a good trip: -) go to bk then.\ngetting ready as we speak we are late.\nwat time u wan do wad?\nthe same.. i hear them bumbling around depends on bus from paya lebar.\na job tt starts work in e lib now.\n"
    }
   ],
   "source": [
    "for i in range(321, 350):\n",
    "    print(generate_sent(model, 20, random_seed=i))"
   ]
  }
 ],
 "metadata": {
  "kernelspec": {
   "display_name": "Python 3",
   "language": "python",
   "name": "python3"
  },
  "language_info": {
   "codemirror_mode": {
    "name": "ipython",
    "version": 3
   },
   "file_extension": ".py",
   "mimetype": "text/x-python",
   "name": "python",
   "nbconvert_exporter": "python",
   "pygments_lexer": "ipython3",
   "version": "3.7.6-final"
  }
 },
 "nbformat": 4,
 "nbformat_minor": 4
}